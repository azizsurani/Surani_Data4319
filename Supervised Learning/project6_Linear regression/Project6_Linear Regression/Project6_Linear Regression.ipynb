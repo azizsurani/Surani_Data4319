{
 "cells": [
  {
   "cell_type": "code",
   "execution_count": 1,
   "metadata": {},
   "outputs": [],
   "source": [
    "# import packages\n",
    "import numpy as np # NumPy is a Python package that stands for ‘Numerical Python’. It is the core library for scientific computing\n",
    "import pandas as pd # Pandas is used for data manipulation, analysis and cleaning.\n",
    "import matplotlib.pyplot as plt # powerful plotting library for python that offers a varied spectrum of 1D, 2D, and 3D visualizations. \n",
    "from IPython.display import display, HTML, display_html # Display the HTML representation of an object.\n",
    "import seaborn as sns # Seaborn is a data visualization library in Python based on matplotlib\n",
    "import datetime # manipulate dates or time, combination of date and time"
   ]
  },
  {
   "cell_type": "code",
   "execution_count": 2,
   "metadata": {},
   "outputs": [],
   "source": [
    "from pandas import read_csv #  imports a CSV file to DataFrame format\n",
    "dataset = read_csv('br.csv')# read csv"
   ]
  },
  {
   "cell_type": "code",
   "execution_count": 3,
   "metadata": {},
   "outputs": [
    {
     "data": {
      "text/html": [
       "<div>\n",
       "<style scoped>\n",
       "    .dataframe tbody tr th:only-of-type {\n",
       "        vertical-align: middle;\n",
       "    }\n",
       "\n",
       "    .dataframe tbody tr th {\n",
       "        vertical-align: top;\n",
       "    }\n",
       "\n",
       "    .dataframe thead th {\n",
       "        text-align: right;\n",
       "    }\n",
       "</style>\n",
       "<table border=\"1\" class=\"dataframe\">\n",
       "  <thead>\n",
       "    <tr style=\"text-align: right;\">\n",
       "      <th></th>\n",
       "      <th>WEEK_END_DATE</th>\n",
       "      <th>STORE_ID</th>\n",
       "      <th>UPC</th>\n",
       "      <th>UNITS</th>\n",
       "      <th>VISITS</th>\n",
       "      <th>HHS</th>\n",
       "      <th>SPEND</th>\n",
       "      <th>PRICE</th>\n",
       "      <th>BASE_PRICE</th>\n",
       "      <th>FEATURE</th>\n",
       "      <th>...</th>\n",
       "      <th>SUB_CATEGORY</th>\n",
       "      <th>PRODUCT_SIZE</th>\n",
       "      <th>STORE_NAME</th>\n",
       "      <th>ADDRESS_CITY_NAME</th>\n",
       "      <th>ADDRESS_STATE_PROV_CODE</th>\n",
       "      <th>MSA_CODE</th>\n",
       "      <th>SEG_VALUE_NAME</th>\n",
       "      <th>PARKING_SPACE_QTY</th>\n",
       "      <th>SALES_AREA_SIZE_NUM</th>\n",
       "      <th>AVG_WEEKLY_BASKETS</th>\n",
       "    </tr>\n",
       "  </thead>\n",
       "  <tbody>\n",
       "    <tr>\n",
       "      <th>0</th>\n",
       "      <td>1/14/2009</td>\n",
       "      <td>367</td>\n",
       "      <td>1111009477</td>\n",
       "      <td>13</td>\n",
       "      <td>13</td>\n",
       "      <td>13</td>\n",
       "      <td>18.07</td>\n",
       "      <td>1.39</td>\n",
       "      <td>1.57</td>\n",
       "      <td>0</td>\n",
       "      <td>...</td>\n",
       "      <td>PRETZELS</td>\n",
       "      <td>15 OZ</td>\n",
       "      <td>15TH &amp; MADISON</td>\n",
       "      <td>COVINGTON</td>\n",
       "      <td>KY</td>\n",
       "      <td>17140</td>\n",
       "      <td>VALUE</td>\n",
       "      <td>196.0</td>\n",
       "      <td>24721</td>\n",
       "      <td>12706.53205</td>\n",
       "    </tr>\n",
       "    <tr>\n",
       "      <th>1</th>\n",
       "      <td>1/21/2009</td>\n",
       "      <td>367</td>\n",
       "      <td>1111009477</td>\n",
       "      <td>24</td>\n",
       "      <td>23</td>\n",
       "      <td>23</td>\n",
       "      <td>33.36</td>\n",
       "      <td>1.39</td>\n",
       "      <td>1.57</td>\n",
       "      <td>0</td>\n",
       "      <td>...</td>\n",
       "      <td>PRETZELS</td>\n",
       "      <td>15 OZ</td>\n",
       "      <td>15TH &amp; MADISON</td>\n",
       "      <td>COVINGTON</td>\n",
       "      <td>KY</td>\n",
       "      <td>17140</td>\n",
       "      <td>VALUE</td>\n",
       "      <td>196.0</td>\n",
       "      <td>24721</td>\n",
       "      <td>12706.53205</td>\n",
       "    </tr>\n",
       "    <tr>\n",
       "      <th>2</th>\n",
       "      <td>1/28/2009</td>\n",
       "      <td>367</td>\n",
       "      <td>1111009477</td>\n",
       "      <td>7</td>\n",
       "      <td>7</td>\n",
       "      <td>7</td>\n",
       "      <td>9.52</td>\n",
       "      <td>1.36</td>\n",
       "      <td>1.36</td>\n",
       "      <td>0</td>\n",
       "      <td>...</td>\n",
       "      <td>PRETZELS</td>\n",
       "      <td>15 OZ</td>\n",
       "      <td>15TH &amp; MADISON</td>\n",
       "      <td>COVINGTON</td>\n",
       "      <td>KY</td>\n",
       "      <td>17140</td>\n",
       "      <td>VALUE</td>\n",
       "      <td>196.0</td>\n",
       "      <td>24721</td>\n",
       "      <td>12706.53205</td>\n",
       "    </tr>\n",
       "    <tr>\n",
       "      <th>3</th>\n",
       "      <td>2/4/2009</td>\n",
       "      <td>367</td>\n",
       "      <td>1111009477</td>\n",
       "      <td>12</td>\n",
       "      <td>12</td>\n",
       "      <td>12</td>\n",
       "      <td>16.56</td>\n",
       "      <td>1.38</td>\n",
       "      <td>1.38</td>\n",
       "      <td>0</td>\n",
       "      <td>...</td>\n",
       "      <td>PRETZELS</td>\n",
       "      <td>15 OZ</td>\n",
       "      <td>15TH &amp; MADISON</td>\n",
       "      <td>COVINGTON</td>\n",
       "      <td>KY</td>\n",
       "      <td>17140</td>\n",
       "      <td>VALUE</td>\n",
       "      <td>196.0</td>\n",
       "      <td>24721</td>\n",
       "      <td>12706.53205</td>\n",
       "    </tr>\n",
       "    <tr>\n",
       "      <th>4</th>\n",
       "      <td>2/11/2009</td>\n",
       "      <td>367</td>\n",
       "      <td>1111009477</td>\n",
       "      <td>16</td>\n",
       "      <td>14</td>\n",
       "      <td>14</td>\n",
       "      <td>24.00</td>\n",
       "      <td>1.50</td>\n",
       "      <td>1.50</td>\n",
       "      <td>0</td>\n",
       "      <td>...</td>\n",
       "      <td>PRETZELS</td>\n",
       "      <td>15 OZ</td>\n",
       "      <td>15TH &amp; MADISON</td>\n",
       "      <td>COVINGTON</td>\n",
       "      <td>KY</td>\n",
       "      <td>17140</td>\n",
       "      <td>VALUE</td>\n",
       "      <td>196.0</td>\n",
       "      <td>24721</td>\n",
       "      <td>12706.53205</td>\n",
       "    </tr>\n",
       "  </tbody>\n",
       "</table>\n",
       "<p>5 rows × 25 columns</p>\n",
       "</div>"
      ],
      "text/plain": [
       "  WEEK_END_DATE  STORE_ID         UPC  UNITS  VISITS  HHS  SPEND  PRICE  \\\n",
       "0     1/14/2009       367  1111009477     13      13   13  18.07   1.39   \n",
       "1     1/21/2009       367  1111009477     24      23   23  33.36   1.39   \n",
       "2     1/28/2009       367  1111009477      7       7    7   9.52   1.36   \n",
       "3      2/4/2009       367  1111009477     12      12   12  16.56   1.38   \n",
       "4     2/11/2009       367  1111009477     16      14   14  24.00   1.50   \n",
       "\n",
       "   BASE_PRICE  FEATURE  ...  SUB_CATEGORY  PRODUCT_SIZE      STORE_NAME  \\\n",
       "0        1.57        0  ...      PRETZELS         15 OZ  15TH & MADISON   \n",
       "1        1.57        0  ...      PRETZELS         15 OZ  15TH & MADISON   \n",
       "2        1.36        0  ...      PRETZELS         15 OZ  15TH & MADISON   \n",
       "3        1.38        0  ...      PRETZELS         15 OZ  15TH & MADISON   \n",
       "4        1.50        0  ...      PRETZELS         15 OZ  15TH & MADISON   \n",
       "\n",
       "  ADDRESS_CITY_NAME ADDRESS_STATE_PROV_CODE MSA_CODE SEG_VALUE_NAME  \\\n",
       "0         COVINGTON                      KY    17140          VALUE   \n",
       "1         COVINGTON                      KY    17140          VALUE   \n",
       "2         COVINGTON                      KY    17140          VALUE   \n",
       "3         COVINGTON                      KY    17140          VALUE   \n",
       "4         COVINGTON                      KY    17140          VALUE   \n",
       "\n",
       "  PARKING_SPACE_QTY SALES_AREA_SIZE_NUM AVG_WEEKLY_BASKETS  \n",
       "0             196.0               24721        12706.53205  \n",
       "1             196.0               24721        12706.53205  \n",
       "2             196.0               24721        12706.53205  \n",
       "3             196.0               24721        12706.53205  \n",
       "4             196.0               24721        12706.53205  \n",
       "\n",
       "[5 rows x 25 columns]"
      ]
     },
     "execution_count": 3,
     "metadata": {},
     "output_type": "execute_result"
    }
   ],
   "source": [
    "dataset.head() #  return top n (5 by default) rows of a data frame"
   ]
  },
  {
   "cell_type": "code",
   "execution_count": 4,
   "metadata": {},
   "outputs": [],
   "source": [
    "pd.set_option(\"display.max.columns\", None) # max columns"
   ]
  },
  {
   "cell_type": "code",
   "execution_count": 5,
   "metadata": {},
   "outputs": [
    {
     "data": {
      "text/html": [
       "<div>\n",
       "<style scoped>\n",
       "    .dataframe tbody tr th:only-of-type {\n",
       "        vertical-align: middle;\n",
       "    }\n",
       "\n",
       "    .dataframe tbody tr th {\n",
       "        vertical-align: top;\n",
       "    }\n",
       "\n",
       "    .dataframe thead th {\n",
       "        text-align: right;\n",
       "    }\n",
       "</style>\n",
       "<table border=\"1\" class=\"dataframe\">\n",
       "  <thead>\n",
       "    <tr style=\"text-align: right;\">\n",
       "      <th></th>\n",
       "      <th>WEEK_END_DATE</th>\n",
       "      <th>STORE_ID</th>\n",
       "      <th>UPC</th>\n",
       "      <th>UNITS</th>\n",
       "      <th>VISITS</th>\n",
       "      <th>HHS</th>\n",
       "      <th>SPEND</th>\n",
       "      <th>PRICE</th>\n",
       "      <th>BASE_PRICE</th>\n",
       "      <th>FEATURE</th>\n",
       "      <th>DISPLAY</th>\n",
       "      <th>TPR_ONLY</th>\n",
       "      <th>DESCRIPTION</th>\n",
       "      <th>MANUFACTURER</th>\n",
       "      <th>CATEGORY</th>\n",
       "      <th>SUB_CATEGORY</th>\n",
       "      <th>PRODUCT_SIZE</th>\n",
       "      <th>STORE_NAME</th>\n",
       "      <th>ADDRESS_CITY_NAME</th>\n",
       "      <th>ADDRESS_STATE_PROV_CODE</th>\n",
       "      <th>MSA_CODE</th>\n",
       "      <th>SEG_VALUE_NAME</th>\n",
       "      <th>PARKING_SPACE_QTY</th>\n",
       "      <th>SALES_AREA_SIZE_NUM</th>\n",
       "      <th>AVG_WEEKLY_BASKETS</th>\n",
       "    </tr>\n",
       "  </thead>\n",
       "  <tbody>\n",
       "    <tr>\n",
       "      <th>0</th>\n",
       "      <td>1/14/2009</td>\n",
       "      <td>367</td>\n",
       "      <td>1111009477</td>\n",
       "      <td>13</td>\n",
       "      <td>13</td>\n",
       "      <td>13</td>\n",
       "      <td>18.07</td>\n",
       "      <td>1.39</td>\n",
       "      <td>1.57</td>\n",
       "      <td>0</td>\n",
       "      <td>0</td>\n",
       "      <td>1</td>\n",
       "      <td>PL MINI TWIST PRETZELS</td>\n",
       "      <td>PRIVATE LABEL</td>\n",
       "      <td>BAG SNACKS</td>\n",
       "      <td>PRETZELS</td>\n",
       "      <td>15 OZ</td>\n",
       "      <td>15TH &amp; MADISON</td>\n",
       "      <td>COVINGTON</td>\n",
       "      <td>KY</td>\n",
       "      <td>17140</td>\n",
       "      <td>VALUE</td>\n",
       "      <td>196.0</td>\n",
       "      <td>24721</td>\n",
       "      <td>12706.53205</td>\n",
       "    </tr>\n",
       "    <tr>\n",
       "      <th>1</th>\n",
       "      <td>1/21/2009</td>\n",
       "      <td>367</td>\n",
       "      <td>1111009477</td>\n",
       "      <td>24</td>\n",
       "      <td>23</td>\n",
       "      <td>23</td>\n",
       "      <td>33.36</td>\n",
       "      <td>1.39</td>\n",
       "      <td>1.57</td>\n",
       "      <td>0</td>\n",
       "      <td>0</td>\n",
       "      <td>1</td>\n",
       "      <td>PL MINI TWIST PRETZELS</td>\n",
       "      <td>PRIVATE LABEL</td>\n",
       "      <td>BAG SNACKS</td>\n",
       "      <td>PRETZELS</td>\n",
       "      <td>15 OZ</td>\n",
       "      <td>15TH &amp; MADISON</td>\n",
       "      <td>COVINGTON</td>\n",
       "      <td>KY</td>\n",
       "      <td>17140</td>\n",
       "      <td>VALUE</td>\n",
       "      <td>196.0</td>\n",
       "      <td>24721</td>\n",
       "      <td>12706.53205</td>\n",
       "    </tr>\n",
       "    <tr>\n",
       "      <th>2</th>\n",
       "      <td>1/28/2009</td>\n",
       "      <td>367</td>\n",
       "      <td>1111009477</td>\n",
       "      <td>7</td>\n",
       "      <td>7</td>\n",
       "      <td>7</td>\n",
       "      <td>9.52</td>\n",
       "      <td>1.36</td>\n",
       "      <td>1.36</td>\n",
       "      <td>0</td>\n",
       "      <td>0</td>\n",
       "      <td>0</td>\n",
       "      <td>PL MINI TWIST PRETZELS</td>\n",
       "      <td>PRIVATE LABEL</td>\n",
       "      <td>BAG SNACKS</td>\n",
       "      <td>PRETZELS</td>\n",
       "      <td>15 OZ</td>\n",
       "      <td>15TH &amp; MADISON</td>\n",
       "      <td>COVINGTON</td>\n",
       "      <td>KY</td>\n",
       "      <td>17140</td>\n",
       "      <td>VALUE</td>\n",
       "      <td>196.0</td>\n",
       "      <td>24721</td>\n",
       "      <td>12706.53205</td>\n",
       "    </tr>\n",
       "    <tr>\n",
       "      <th>3</th>\n",
       "      <td>2/4/2009</td>\n",
       "      <td>367</td>\n",
       "      <td>1111009477</td>\n",
       "      <td>12</td>\n",
       "      <td>12</td>\n",
       "      <td>12</td>\n",
       "      <td>16.56</td>\n",
       "      <td>1.38</td>\n",
       "      <td>1.38</td>\n",
       "      <td>0</td>\n",
       "      <td>0</td>\n",
       "      <td>0</td>\n",
       "      <td>PL MINI TWIST PRETZELS</td>\n",
       "      <td>PRIVATE LABEL</td>\n",
       "      <td>BAG SNACKS</td>\n",
       "      <td>PRETZELS</td>\n",
       "      <td>15 OZ</td>\n",
       "      <td>15TH &amp; MADISON</td>\n",
       "      <td>COVINGTON</td>\n",
       "      <td>KY</td>\n",
       "      <td>17140</td>\n",
       "      <td>VALUE</td>\n",
       "      <td>196.0</td>\n",
       "      <td>24721</td>\n",
       "      <td>12706.53205</td>\n",
       "    </tr>\n",
       "    <tr>\n",
       "      <th>4</th>\n",
       "      <td>2/11/2009</td>\n",
       "      <td>367</td>\n",
       "      <td>1111009477</td>\n",
       "      <td>16</td>\n",
       "      <td>14</td>\n",
       "      <td>14</td>\n",
       "      <td>24.00</td>\n",
       "      <td>1.50</td>\n",
       "      <td>1.50</td>\n",
       "      <td>0</td>\n",
       "      <td>0</td>\n",
       "      <td>0</td>\n",
       "      <td>PL MINI TWIST PRETZELS</td>\n",
       "      <td>PRIVATE LABEL</td>\n",
       "      <td>BAG SNACKS</td>\n",
       "      <td>PRETZELS</td>\n",
       "      <td>15 OZ</td>\n",
       "      <td>15TH &amp; MADISON</td>\n",
       "      <td>COVINGTON</td>\n",
       "      <td>KY</td>\n",
       "      <td>17140</td>\n",
       "      <td>VALUE</td>\n",
       "      <td>196.0</td>\n",
       "      <td>24721</td>\n",
       "      <td>12706.53205</td>\n",
       "    </tr>\n",
       "  </tbody>\n",
       "</table>\n",
       "</div>"
      ],
      "text/plain": [
       "  WEEK_END_DATE  STORE_ID         UPC  UNITS  VISITS  HHS  SPEND  PRICE  \\\n",
       "0     1/14/2009       367  1111009477     13      13   13  18.07   1.39   \n",
       "1     1/21/2009       367  1111009477     24      23   23  33.36   1.39   \n",
       "2     1/28/2009       367  1111009477      7       7    7   9.52   1.36   \n",
       "3      2/4/2009       367  1111009477     12      12   12  16.56   1.38   \n",
       "4     2/11/2009       367  1111009477     16      14   14  24.00   1.50   \n",
       "\n",
       "   BASE_PRICE  FEATURE  DISPLAY  TPR_ONLY             DESCRIPTION  \\\n",
       "0        1.57        0        0         1  PL MINI TWIST PRETZELS   \n",
       "1        1.57        0        0         1  PL MINI TWIST PRETZELS   \n",
       "2        1.36        0        0         0  PL MINI TWIST PRETZELS   \n",
       "3        1.38        0        0         0  PL MINI TWIST PRETZELS   \n",
       "4        1.50        0        0         0  PL MINI TWIST PRETZELS   \n",
       "\n",
       "    MANUFACTURER    CATEGORY SUB_CATEGORY PRODUCT_SIZE      STORE_NAME  \\\n",
       "0  PRIVATE LABEL  BAG SNACKS     PRETZELS        15 OZ  15TH & MADISON   \n",
       "1  PRIVATE LABEL  BAG SNACKS     PRETZELS        15 OZ  15TH & MADISON   \n",
       "2  PRIVATE LABEL  BAG SNACKS     PRETZELS        15 OZ  15TH & MADISON   \n",
       "3  PRIVATE LABEL  BAG SNACKS     PRETZELS        15 OZ  15TH & MADISON   \n",
       "4  PRIVATE LABEL  BAG SNACKS     PRETZELS        15 OZ  15TH & MADISON   \n",
       "\n",
       "  ADDRESS_CITY_NAME ADDRESS_STATE_PROV_CODE  MSA_CODE SEG_VALUE_NAME  \\\n",
       "0         COVINGTON                      KY     17140          VALUE   \n",
       "1         COVINGTON                      KY     17140          VALUE   \n",
       "2         COVINGTON                      KY     17140          VALUE   \n",
       "3         COVINGTON                      KY     17140          VALUE   \n",
       "4         COVINGTON                      KY     17140          VALUE   \n",
       "\n",
       "   PARKING_SPACE_QTY  SALES_AREA_SIZE_NUM  AVG_WEEKLY_BASKETS  \n",
       "0              196.0                24721         12706.53205  \n",
       "1              196.0                24721         12706.53205  \n",
       "2              196.0                24721         12706.53205  \n",
       "3              196.0                24721         12706.53205  \n",
       "4              196.0                24721         12706.53205  "
      ]
     },
     "execution_count": 5,
     "metadata": {},
     "output_type": "execute_result"
    }
   ],
   "source": [
    "dataset.head()"
   ]
  },
  {
   "cell_type": "code",
   "execution_count": 6,
   "metadata": {},
   "outputs": [
    {
     "data": {
      "text/html": [
       "<div>\n",
       "<style scoped>\n",
       "    .dataframe tbody tr th:only-of-type {\n",
       "        vertical-align: middle;\n",
       "    }\n",
       "\n",
       "    .dataframe tbody tr th {\n",
       "        vertical-align: top;\n",
       "    }\n",
       "\n",
       "    .dataframe thead th {\n",
       "        text-align: right;\n",
       "    }\n",
       "</style>\n",
       "<table border=\"1\" class=\"dataframe\">\n",
       "  <thead>\n",
       "    <tr style=\"text-align: right;\">\n",
       "      <th></th>\n",
       "      <th>WEEK_END_DATE</th>\n",
       "      <th>STORE_ID</th>\n",
       "      <th>UPC</th>\n",
       "      <th>UNITS</th>\n",
       "      <th>VISITS</th>\n",
       "      <th>HHS</th>\n",
       "      <th>SPEND</th>\n",
       "      <th>PRICE</th>\n",
       "      <th>BASE_PRICE</th>\n",
       "      <th>FEATURE</th>\n",
       "      <th>DISPLAY</th>\n",
       "      <th>TPR_ONLY</th>\n",
       "      <th>DESCRIPTION</th>\n",
       "      <th>MANUFACTURER</th>\n",
       "      <th>CATEGORY</th>\n",
       "      <th>SUB_CATEGORY</th>\n",
       "      <th>PRODUCT_SIZE</th>\n",
       "      <th>STORE_NAME</th>\n",
       "      <th>ADDRESS_CITY_NAME</th>\n",
       "      <th>ADDRESS_STATE_PROV_CODE</th>\n",
       "      <th>MSA_CODE</th>\n",
       "      <th>SEG_VALUE_NAME</th>\n",
       "      <th>PARKING_SPACE_QTY</th>\n",
       "      <th>SALES_AREA_SIZE_NUM</th>\n",
       "      <th>AVG_WEEKLY_BASKETS</th>\n",
       "    </tr>\n",
       "  </thead>\n",
       "  <tbody>\n",
       "    <tr>\n",
       "      <th>538638</th>\n",
       "      <td>11/2/2011</td>\n",
       "      <td>29159</td>\n",
       "      <td>2066200532</td>\n",
       "      <td>2</td>\n",
       "      <td>2</td>\n",
       "      <td>2</td>\n",
       "      <td>11.98</td>\n",
       "      <td>5.99</td>\n",
       "      <td>5.99</td>\n",
       "      <td>0</td>\n",
       "      <td>1</td>\n",
       "      <td>0</td>\n",
       "      <td>NWMN OWN SUPREME PIZZA</td>\n",
       "      <td>KING</td>\n",
       "      <td>FROZEN PIZZA</td>\n",
       "      <td>PIZZA/PREMIUM</td>\n",
       "      <td>14.7 OZ</td>\n",
       "      <td>CARROLLTON</td>\n",
       "      <td>CARROLLTON</td>\n",
       "      <td>TX</td>\n",
       "      <td>19100</td>\n",
       "      <td>MAINSTREAM</td>\n",
       "      <td>NaN</td>\n",
       "      <td>54927</td>\n",
       "      <td>25916.53205</td>\n",
       "    </tr>\n",
       "    <tr>\n",
       "      <th>538639</th>\n",
       "      <td>11/16/2011</td>\n",
       "      <td>29159</td>\n",
       "      <td>2066200532</td>\n",
       "      <td>3</td>\n",
       "      <td>3</td>\n",
       "      <td>3</td>\n",
       "      <td>19.47</td>\n",
       "      <td>6.49</td>\n",
       "      <td>6.49</td>\n",
       "      <td>0</td>\n",
       "      <td>0</td>\n",
       "      <td>0</td>\n",
       "      <td>NWMN OWN SUPREME PIZZA</td>\n",
       "      <td>KING</td>\n",
       "      <td>FROZEN PIZZA</td>\n",
       "      <td>PIZZA/PREMIUM</td>\n",
       "      <td>14.7 OZ</td>\n",
       "      <td>CARROLLTON</td>\n",
       "      <td>CARROLLTON</td>\n",
       "      <td>TX</td>\n",
       "      <td>19100</td>\n",
       "      <td>MAINSTREAM</td>\n",
       "      <td>NaN</td>\n",
       "      <td>54927</td>\n",
       "      <td>25916.53205</td>\n",
       "    </tr>\n",
       "    <tr>\n",
       "      <th>538640</th>\n",
       "      <td>11/23/2011</td>\n",
       "      <td>29159</td>\n",
       "      <td>2066200532</td>\n",
       "      <td>4</td>\n",
       "      <td>4</td>\n",
       "      <td>4</td>\n",
       "      <td>25.96</td>\n",
       "      <td>6.49</td>\n",
       "      <td>6.49</td>\n",
       "      <td>0</td>\n",
       "      <td>0</td>\n",
       "      <td>0</td>\n",
       "      <td>NWMN OWN SUPREME PIZZA</td>\n",
       "      <td>KING</td>\n",
       "      <td>FROZEN PIZZA</td>\n",
       "      <td>PIZZA/PREMIUM</td>\n",
       "      <td>14.7 OZ</td>\n",
       "      <td>CARROLLTON</td>\n",
       "      <td>CARROLLTON</td>\n",
       "      <td>TX</td>\n",
       "      <td>19100</td>\n",
       "      <td>MAINSTREAM</td>\n",
       "      <td>NaN</td>\n",
       "      <td>54927</td>\n",
       "      <td>25916.53205</td>\n",
       "    </tr>\n",
       "    <tr>\n",
       "      <th>538641</th>\n",
       "      <td>12/7/2011</td>\n",
       "      <td>29159</td>\n",
       "      <td>2066200532</td>\n",
       "      <td>2</td>\n",
       "      <td>2</td>\n",
       "      <td>2</td>\n",
       "      <td>12.98</td>\n",
       "      <td>6.49</td>\n",
       "      <td>6.49</td>\n",
       "      <td>0</td>\n",
       "      <td>0</td>\n",
       "      <td>0</td>\n",
       "      <td>NWMN OWN SUPREME PIZZA</td>\n",
       "      <td>KING</td>\n",
       "      <td>FROZEN PIZZA</td>\n",
       "      <td>PIZZA/PREMIUM</td>\n",
       "      <td>14.7 OZ</td>\n",
       "      <td>CARROLLTON</td>\n",
       "      <td>CARROLLTON</td>\n",
       "      <td>TX</td>\n",
       "      <td>19100</td>\n",
       "      <td>MAINSTREAM</td>\n",
       "      <td>NaN</td>\n",
       "      <td>54927</td>\n",
       "      <td>25916.53205</td>\n",
       "    </tr>\n",
       "    <tr>\n",
       "      <th>538642</th>\n",
       "      <td>1/4/2012</td>\n",
       "      <td>29159</td>\n",
       "      <td>2066200532</td>\n",
       "      <td>1</td>\n",
       "      <td>1</td>\n",
       "      <td>1</td>\n",
       "      <td>6.99</td>\n",
       "      <td>6.99</td>\n",
       "      <td>6.99</td>\n",
       "      <td>0</td>\n",
       "      <td>0</td>\n",
       "      <td>0</td>\n",
       "      <td>NWMN OWN SUPREME PIZZA</td>\n",
       "      <td>KING</td>\n",
       "      <td>FROZEN PIZZA</td>\n",
       "      <td>PIZZA/PREMIUM</td>\n",
       "      <td>14.7 OZ</td>\n",
       "      <td>CARROLLTON</td>\n",
       "      <td>CARROLLTON</td>\n",
       "      <td>TX</td>\n",
       "      <td>19100</td>\n",
       "      <td>MAINSTREAM</td>\n",
       "      <td>NaN</td>\n",
       "      <td>54927</td>\n",
       "      <td>25916.53205</td>\n",
       "    </tr>\n",
       "  </tbody>\n",
       "</table>\n",
       "</div>"
      ],
      "text/plain": [
       "       WEEK_END_DATE  STORE_ID         UPC  UNITS  VISITS  HHS  SPEND  PRICE  \\\n",
       "538638     11/2/2011     29159  2066200532      2       2    2  11.98   5.99   \n",
       "538639    11/16/2011     29159  2066200532      3       3    3  19.47   6.49   \n",
       "538640    11/23/2011     29159  2066200532      4       4    4  25.96   6.49   \n",
       "538641     12/7/2011     29159  2066200532      2       2    2  12.98   6.49   \n",
       "538642      1/4/2012     29159  2066200532      1       1    1   6.99   6.99   \n",
       "\n",
       "        BASE_PRICE  FEATURE  DISPLAY  TPR_ONLY             DESCRIPTION  \\\n",
       "538638        5.99        0        1         0  NWMN OWN SUPREME PIZZA   \n",
       "538639        6.49        0        0         0  NWMN OWN SUPREME PIZZA   \n",
       "538640        6.49        0        0         0  NWMN OWN SUPREME PIZZA   \n",
       "538641        6.49        0        0         0  NWMN OWN SUPREME PIZZA   \n",
       "538642        6.99        0        0         0  NWMN OWN SUPREME PIZZA   \n",
       "\n",
       "       MANUFACTURER      CATEGORY   SUB_CATEGORY PRODUCT_SIZE  STORE_NAME  \\\n",
       "538638         KING  FROZEN PIZZA  PIZZA/PREMIUM      14.7 OZ  CARROLLTON   \n",
       "538639         KING  FROZEN PIZZA  PIZZA/PREMIUM      14.7 OZ  CARROLLTON   \n",
       "538640         KING  FROZEN PIZZA  PIZZA/PREMIUM      14.7 OZ  CARROLLTON   \n",
       "538641         KING  FROZEN PIZZA  PIZZA/PREMIUM      14.7 OZ  CARROLLTON   \n",
       "538642         KING  FROZEN PIZZA  PIZZA/PREMIUM      14.7 OZ  CARROLLTON   \n",
       "\n",
       "       ADDRESS_CITY_NAME ADDRESS_STATE_PROV_CODE  MSA_CODE SEG_VALUE_NAME  \\\n",
       "538638        CARROLLTON                      TX     19100     MAINSTREAM   \n",
       "538639        CARROLLTON                      TX     19100     MAINSTREAM   \n",
       "538640        CARROLLTON                      TX     19100     MAINSTREAM   \n",
       "538641        CARROLLTON                      TX     19100     MAINSTREAM   \n",
       "538642        CARROLLTON                      TX     19100     MAINSTREAM   \n",
       "\n",
       "        PARKING_SPACE_QTY  SALES_AREA_SIZE_NUM  AVG_WEEKLY_BASKETS  \n",
       "538638                NaN                54927         25916.53205  \n",
       "538639                NaN                54927         25916.53205  \n",
       "538640                NaN                54927         25916.53205  \n",
       "538641                NaN                54927         25916.53205  \n",
       "538642                NaN                54927         25916.53205  "
      ]
     },
     "execution_count": 6,
     "metadata": {},
     "output_type": "execute_result"
    }
   ],
   "source": [
    "dataset.tail() #  return bottom n (5 by default) rows of a data frame"
   ]
  },
  {
   "cell_type": "code",
   "execution_count": 7,
   "metadata": {},
   "outputs": [
    {
     "name": "stdout",
     "output_type": "stream",
     "text": [
      "<class 'pandas.core.frame.DataFrame'>\n",
      "RangeIndex: 538643 entries, 0 to 538642\n",
      "Data columns (total 25 columns):\n",
      " #   Column                   Non-Null Count   Dtype  \n",
      "---  ------                   --------------   -----  \n",
      " 0   WEEK_END_DATE            538643 non-null  object \n",
      " 1   STORE_ID                 538643 non-null  int64  \n",
      " 2   UPC                      538643 non-null  int64  \n",
      " 3   UNITS                    538643 non-null  int64  \n",
      " 4   VISITS                   538643 non-null  int64  \n",
      " 5   HHS                      538643 non-null  int64  \n",
      " 6   SPEND                    538643 non-null  float64\n",
      " 7   PRICE                    538620 non-null  float64\n",
      " 8   BASE_PRICE               538458 non-null  float64\n",
      " 9   FEATURE                  538643 non-null  int64  \n",
      " 10  DISPLAY                  538643 non-null  int64  \n",
      " 11  TPR_ONLY                 538643 non-null  int64  \n",
      " 12  DESCRIPTION              538643 non-null  object \n",
      " 13  MANUFACTURER             538643 non-null  object \n",
      " 14  CATEGORY                 538643 non-null  object \n",
      " 15  SUB_CATEGORY             538643 non-null  object \n",
      " 16  PRODUCT_SIZE             538643 non-null  object \n",
      " 17  STORE_NAME               538643 non-null  object \n",
      " 18  ADDRESS_CITY_NAME        538643 non-null  object \n",
      " 19  ADDRESS_STATE_PROV_CODE  538643 non-null  object \n",
      " 20  MSA_CODE                 538643 non-null  int64  \n",
      " 21  SEG_VALUE_NAME           538643 non-null  object \n",
      " 22  PARKING_SPACE_QTY        172582 non-null  float64\n",
      " 23  SALES_AREA_SIZE_NUM      538643 non-null  int64  \n",
      " 24  AVG_WEEKLY_BASKETS       538643 non-null  float64\n",
      "dtypes: float64(5), int64(10), object(10)\n",
      "memory usage: 102.7+ MB\n"
     ]
    }
   ],
   "source": [
    "dataset.info() # concise summary of the dataframe"
   ]
  },
  {
   "cell_type": "code",
   "execution_count": 8,
   "metadata": {},
   "outputs": [
    {
     "data": {
      "text/plain": [
       "pandas.core.frame.DataFrame"
      ]
     },
     "execution_count": 8,
     "metadata": {},
     "output_type": "execute_result"
    }
   ],
   "source": [
    "type(dataset)"
   ]
  },
  {
   "cell_type": "code",
   "execution_count": 9,
   "metadata": {},
   "outputs": [
    {
     "data": {
      "text/plain": [
       "538643"
      ]
     },
     "execution_count": 9,
     "metadata": {},
     "output_type": "execute_result"
    }
   ],
   "source": [
    "len(dataset) # size of the dataset"
   ]
  },
  {
   "cell_type": "code",
   "execution_count": 10,
   "metadata": {},
   "outputs": [
    {
     "data": {
      "text/plain": [
       "(538643, 25)"
      ]
     },
     "execution_count": 10,
     "metadata": {},
     "output_type": "execute_result"
    }
   ],
   "source": [
    "dataset.shape # rows, columns"
   ]
  },
  {
   "cell_type": "code",
   "execution_count": 11,
   "metadata": {},
   "outputs": [
    {
     "data": {
      "text/html": [
       "<div>\n",
       "<style scoped>\n",
       "    .dataframe tbody tr th:only-of-type {\n",
       "        vertical-align: middle;\n",
       "    }\n",
       "\n",
       "    .dataframe tbody tr th {\n",
       "        vertical-align: top;\n",
       "    }\n",
       "\n",
       "    .dataframe thead th {\n",
       "        text-align: right;\n",
       "    }\n",
       "</style>\n",
       "<table border=\"1\" class=\"dataframe\">\n",
       "  <thead>\n",
       "    <tr style=\"text-align: right;\">\n",
       "      <th></th>\n",
       "      <th>STORE_ID</th>\n",
       "      <th>UPC</th>\n",
       "      <th>UNITS</th>\n",
       "      <th>VISITS</th>\n",
       "      <th>HHS</th>\n",
       "      <th>SPEND</th>\n",
       "      <th>PRICE</th>\n",
       "      <th>BASE_PRICE</th>\n",
       "      <th>FEATURE</th>\n",
       "      <th>DISPLAY</th>\n",
       "      <th>TPR_ONLY</th>\n",
       "      <th>MSA_CODE</th>\n",
       "      <th>PARKING_SPACE_QTY</th>\n",
       "      <th>SALES_AREA_SIZE_NUM</th>\n",
       "      <th>AVG_WEEKLY_BASKETS</th>\n",
       "    </tr>\n",
       "  </thead>\n",
       "  <tbody>\n",
       "    <tr>\n",
       "      <th>count</th>\n",
       "      <td>538643.000000</td>\n",
       "      <td>5.386430e+05</td>\n",
       "      <td>538643.000000</td>\n",
       "      <td>538643.000000</td>\n",
       "      <td>538643.000000</td>\n",
       "      <td>538643.000000</td>\n",
       "      <td>538620.000000</td>\n",
       "      <td>538458.000000</td>\n",
       "      <td>538643.000000</td>\n",
       "      <td>538643.000000</td>\n",
       "      <td>538643.000000</td>\n",
       "      <td>538643.000000</td>\n",
       "      <td>172582.000000</td>\n",
       "      <td>538643.000000</td>\n",
       "      <td>538643.000000</td>\n",
       "    </tr>\n",
       "    <tr>\n",
       "      <th>mean</th>\n",
       "      <td>14596.501083</td>\n",
       "      <td>1.031484e+10</td>\n",
       "      <td>19.623368</td>\n",
       "      <td>17.181955</td>\n",
       "      <td>16.796210</td>\n",
       "      <td>53.273423</td>\n",
       "      <td>3.385351</td>\n",
       "      <td>3.605351</td>\n",
       "      <td>0.084468</td>\n",
       "      <td>0.110377</td>\n",
       "      <td>0.133842</td>\n",
       "      <td>21089.268959</td>\n",
       "      <td>519.009364</td>\n",
       "      <td>50274.398459</td>\n",
       "      <td>24643.620653</td>\n",
       "    </tr>\n",
       "    <tr>\n",
       "      <th>std</th>\n",
       "      <td>8858.796742</td>\n",
       "      <td>2.082019e+10</td>\n",
       "      <td>29.851075</td>\n",
       "      <td>24.652451</td>\n",
       "      <td>24.102473</td>\n",
       "      <td>68.011688</td>\n",
       "      <td>1.560570</td>\n",
       "      <td>1.632829</td>\n",
       "      <td>0.278088</td>\n",
       "      <td>0.313360</td>\n",
       "      <td>0.340483</td>\n",
       "      <td>6128.940040</td>\n",
       "      <td>421.462428</td>\n",
       "      <td>13318.597040</td>\n",
       "      <td>8811.870791</td>\n",
       "    </tr>\n",
       "    <tr>\n",
       "      <th>min</th>\n",
       "      <td>367.000000</td>\n",
       "      <td>1.111009e+09</td>\n",
       "      <td>0.000000</td>\n",
       "      <td>1.000000</td>\n",
       "      <td>1.000000</td>\n",
       "      <td>0.000000</td>\n",
       "      <td>0.000000</td>\n",
       "      <td>0.550000</td>\n",
       "      <td>0.000000</td>\n",
       "      <td>0.000000</td>\n",
       "      <td>0.000000</td>\n",
       "      <td>13140.000000</td>\n",
       "      <td>17.000000</td>\n",
       "      <td>10788.000000</td>\n",
       "      <td>10434.705130</td>\n",
       "    </tr>\n",
       "    <tr>\n",
       "      <th>25%</th>\n",
       "      <td>6179.000000</td>\n",
       "      <td>1.111087e+09</td>\n",
       "      <td>4.000000</td>\n",
       "      <td>4.000000</td>\n",
       "      <td>4.000000</td>\n",
       "      <td>13.470000</td>\n",
       "      <td>2.370000</td>\n",
       "      <td>2.500000</td>\n",
       "      <td>0.000000</td>\n",
       "      <td>0.000000</td>\n",
       "      <td>0.000000</td>\n",
       "      <td>17140.000000</td>\n",
       "      <td>294.000000</td>\n",
       "      <td>44175.000000</td>\n",
       "      <td>18196.820510</td>\n",
       "    </tr>\n",
       "    <tr>\n",
       "      <th>50%</th>\n",
       "      <td>15541.000000</td>\n",
       "      <td>3.700032e+09</td>\n",
       "      <td>11.000000</td>\n",
       "      <td>9.000000</td>\n",
       "      <td>9.000000</td>\n",
       "      <td>32.130000</td>\n",
       "      <td>2.990000</td>\n",
       "      <td>3.180000</td>\n",
       "      <td>0.000000</td>\n",
       "      <td>0.000000</td>\n",
       "      <td>0.000000</td>\n",
       "      <td>19100.000000</td>\n",
       "      <td>351.000000</td>\n",
       "      <td>48782.000000</td>\n",
       "      <td>24766.807690</td>\n",
       "    </tr>\n",
       "    <tr>\n",
       "      <th>75%</th>\n",
       "      <td>23061.000000</td>\n",
       "      <td>7.192100e+09</td>\n",
       "      <td>24.000000</td>\n",
       "      <td>21.000000</td>\n",
       "      <td>21.000000</td>\n",
       "      <td>67.830000</td>\n",
       "      <td>4.490000</td>\n",
       "      <td>4.590000</td>\n",
       "      <td>0.000000</td>\n",
       "      <td>0.000000</td>\n",
       "      <td>0.000000</td>\n",
       "      <td>26420.000000</td>\n",
       "      <td>513.000000</td>\n",
       "      <td>55663.000000</td>\n",
       "      <td>29435.628210</td>\n",
       "    </tr>\n",
       "    <tr>\n",
       "      <th>max</th>\n",
       "      <td>29159.000000</td>\n",
       "      <td>8.849121e+10</td>\n",
       "      <td>1800.000000</td>\n",
       "      <td>1340.000000</td>\n",
       "      <td>1286.000000</td>\n",
       "      <td>2952.000000</td>\n",
       "      <td>11.460000</td>\n",
       "      <td>11.460000</td>\n",
       "      <td>1.000000</td>\n",
       "      <td>1.000000</td>\n",
       "      <td>1.000000</td>\n",
       "      <td>47540.000000</td>\n",
       "      <td>1859.000000</td>\n",
       "      <td>86517.000000</td>\n",
       "      <td>54052.519230</td>\n",
       "    </tr>\n",
       "  </tbody>\n",
       "</table>\n",
       "</div>"
      ],
      "text/plain": [
       "            STORE_ID           UPC          UNITS         VISITS  \\\n",
       "count  538643.000000  5.386430e+05  538643.000000  538643.000000   \n",
       "mean    14596.501083  1.031484e+10      19.623368      17.181955   \n",
       "std      8858.796742  2.082019e+10      29.851075      24.652451   \n",
       "min       367.000000  1.111009e+09       0.000000       1.000000   \n",
       "25%      6179.000000  1.111087e+09       4.000000       4.000000   \n",
       "50%     15541.000000  3.700032e+09      11.000000       9.000000   \n",
       "75%     23061.000000  7.192100e+09      24.000000      21.000000   \n",
       "max     29159.000000  8.849121e+10    1800.000000    1340.000000   \n",
       "\n",
       "                 HHS          SPEND          PRICE     BASE_PRICE  \\\n",
       "count  538643.000000  538643.000000  538620.000000  538458.000000   \n",
       "mean       16.796210      53.273423       3.385351       3.605351   \n",
       "std        24.102473      68.011688       1.560570       1.632829   \n",
       "min         1.000000       0.000000       0.000000       0.550000   \n",
       "25%         4.000000      13.470000       2.370000       2.500000   \n",
       "50%         9.000000      32.130000       2.990000       3.180000   \n",
       "75%        21.000000      67.830000       4.490000       4.590000   \n",
       "max      1286.000000    2952.000000      11.460000      11.460000   \n",
       "\n",
       "             FEATURE        DISPLAY       TPR_ONLY       MSA_CODE  \\\n",
       "count  538643.000000  538643.000000  538643.000000  538643.000000   \n",
       "mean        0.084468       0.110377       0.133842   21089.268959   \n",
       "std         0.278088       0.313360       0.340483    6128.940040   \n",
       "min         0.000000       0.000000       0.000000   13140.000000   \n",
       "25%         0.000000       0.000000       0.000000   17140.000000   \n",
       "50%         0.000000       0.000000       0.000000   19100.000000   \n",
       "75%         0.000000       0.000000       0.000000   26420.000000   \n",
       "max         1.000000       1.000000       1.000000   47540.000000   \n",
       "\n",
       "       PARKING_SPACE_QTY  SALES_AREA_SIZE_NUM  AVG_WEEKLY_BASKETS  \n",
       "count      172582.000000        538643.000000       538643.000000  \n",
       "mean          519.009364         50274.398459        24643.620653  \n",
       "std           421.462428         13318.597040         8811.870791  \n",
       "min            17.000000         10788.000000        10434.705130  \n",
       "25%           294.000000         44175.000000        18196.820510  \n",
       "50%           351.000000         48782.000000        24766.807690  \n",
       "75%           513.000000         55663.000000        29435.628210  \n",
       "max          1859.000000         86517.000000        54052.519230  "
      ]
     },
     "execution_count": 11,
     "metadata": {},
     "output_type": "execute_result"
    }
   ],
   "source": [
    "dataset.describe() # statistical details like percentile, mean, std etc. (numerical values)"
   ]
  },
  {
   "cell_type": "code",
   "execution_count": 12,
   "metadata": {},
   "outputs": [
    {
     "data": {
      "text/html": [
       "<div>\n",
       "<style scoped>\n",
       "    .dataframe tbody tr th:only-of-type {\n",
       "        vertical-align: middle;\n",
       "    }\n",
       "\n",
       "    .dataframe tbody tr th {\n",
       "        vertical-align: top;\n",
       "    }\n",
       "\n",
       "    .dataframe thead th {\n",
       "        text-align: right;\n",
       "    }\n",
       "</style>\n",
       "<table border=\"1\" class=\"dataframe\">\n",
       "  <thead>\n",
       "    <tr style=\"text-align: right;\">\n",
       "      <th></th>\n",
       "      <th>WEEK_END_DATE</th>\n",
       "      <th>DESCRIPTION</th>\n",
       "      <th>MANUFACTURER</th>\n",
       "      <th>CATEGORY</th>\n",
       "      <th>SUB_CATEGORY</th>\n",
       "      <th>PRODUCT_SIZE</th>\n",
       "      <th>STORE_NAME</th>\n",
       "      <th>ADDRESS_CITY_NAME</th>\n",
       "      <th>ADDRESS_STATE_PROV_CODE</th>\n",
       "      <th>SEG_VALUE_NAME</th>\n",
       "    </tr>\n",
       "  </thead>\n",
       "  <tbody>\n",
       "    <tr>\n",
       "      <th>count</th>\n",
       "      <td>538643</td>\n",
       "      <td>538643</td>\n",
       "      <td>538643</td>\n",
       "      <td>538643</td>\n",
       "      <td>538643</td>\n",
       "      <td>538643</td>\n",
       "      <td>538643</td>\n",
       "      <td>538643</td>\n",
       "      <td>538643</td>\n",
       "      <td>538643</td>\n",
       "    </tr>\n",
       "    <tr>\n",
       "      <th>unique</th>\n",
       "      <td>156</td>\n",
       "      <td>52</td>\n",
       "      <td>16</td>\n",
       "      <td>4</td>\n",
       "      <td>7</td>\n",
       "      <td>28</td>\n",
       "      <td>73</td>\n",
       "      <td>51</td>\n",
       "      <td>4</td>\n",
       "      <td>3</td>\n",
       "    </tr>\n",
       "    <tr>\n",
       "      <th>top</th>\n",
       "      <td>1/12/2011</td>\n",
       "      <td>GM CHEERIOS</td>\n",
       "      <td>PRIVATE LABEL</td>\n",
       "      <td>COLD CEREAL</td>\n",
       "      <td>PRETZELS</td>\n",
       "      <td>16 OZ</td>\n",
       "      <td>HOUSTON</td>\n",
       "      <td>CINCINNATI</td>\n",
       "      <td>TX</td>\n",
       "      <td>MAINSTREAM</td>\n",
       "    </tr>\n",
       "    <tr>\n",
       "      <th>freq</th>\n",
       "      <td>3681</td>\n",
       "      <td>24587</td>\n",
       "      <td>141372</td>\n",
       "      <td>174140</td>\n",
       "      <td>130183</td>\n",
       "      <td>68673</td>\n",
       "      <td>26540</td>\n",
       "      <td>62739</td>\n",
       "      <td>276811</td>\n",
       "      <td>301807</td>\n",
       "    </tr>\n",
       "  </tbody>\n",
       "</table>\n",
       "</div>"
      ],
      "text/plain": [
       "       WEEK_END_DATE  DESCRIPTION   MANUFACTURER     CATEGORY SUB_CATEGORY  \\\n",
       "count         538643       538643         538643       538643       538643   \n",
       "unique           156           52             16            4            7   \n",
       "top        1/12/2011  GM CHEERIOS  PRIVATE LABEL  COLD CEREAL     PRETZELS   \n",
       "freq            3681        24587         141372       174140       130183   \n",
       "\n",
       "       PRODUCT_SIZE STORE_NAME ADDRESS_CITY_NAME ADDRESS_STATE_PROV_CODE  \\\n",
       "count        538643     538643            538643                  538643   \n",
       "unique           28         73                51                       4   \n",
       "top           16 OZ    HOUSTON        CINCINNATI                      TX   \n",
       "freq          68673      26540             62739                  276811   \n",
       "\n",
       "       SEG_VALUE_NAME  \n",
       "count          538643  \n",
       "unique              3  \n",
       "top        MAINSTREAM  \n",
       "freq           301807  "
      ]
     },
     "execution_count": 12,
     "metadata": {},
     "output_type": "execute_result"
    }
   ],
   "source": [
    "dataset.describe(include = np.object) # Including only string columns (categorical values)"
   ]
  },
  {
   "cell_type": "code",
   "execution_count": 13,
   "metadata": {},
   "outputs": [
    {
     "data": {
      "text/plain": [
       "COLD CEREAL              174140\n",
       "BAG SNACKS               130183\n",
       "ORAL HYGIENE PRODUCTS    119905\n",
       "FROZEN PIZZA             114415\n",
       "Name: CATEGORY, dtype: int64"
      ]
     },
     "execution_count": 13,
     "metadata": {},
     "output_type": "execute_result"
    }
   ],
   "source": [
    "dataset[\"CATEGORY\"].value_counts() # counts the frequency of values "
   ]
  },
  {
   "cell_type": "code",
   "execution_count": 14,
   "metadata": {},
   "outputs": [
    {
     "data": {
      "text/plain": [
       "PRETZELS                       130183\n",
       "PIZZA/PREMIUM                  114415\n",
       "ALL FAMILY CEREAL               84157\n",
       "MOUTHWASHES (ANTISEPTIC)        83061\n",
       "KIDS CEREAL                     56120\n",
       "MOUTHWASH/RINSES AND SPRAYS     36844\n",
       "ADULT CEREAL                    33863\n",
       "Name: SUB_CATEGORY, dtype: int64"
      ]
     },
     "execution_count": 14,
     "metadata": {},
     "output_type": "execute_result"
    }
   ],
   "source": [
    "dataset[\"SUB_CATEGORY\"].value_counts()"
   ]
  },
  {
   "cell_type": "code",
   "execution_count": 15,
   "metadata": {},
   "outputs": [
    {
     "data": {
      "text/plain": [
       "'1/12/2011'"
      ]
     },
     "execution_count": 15,
     "metadata": {},
     "output_type": "execute_result"
    }
   ],
   "source": [
    "dataset.loc[dataset[\"CATEGORY\"] == \"COLD CEREAL\", \"WEEK_END_DATE\"].min() # Starting sales date where cold cereal is purchased"
   ]
  },
  {
   "cell_type": "code",
   "execution_count": 16,
   "metadata": {},
   "outputs": [
    {
     "data": {
      "text/plain": [
       "10434.70513"
      ]
     },
     "execution_count": 16,
     "metadata": {},
     "output_type": "execute_result"
    }
   ],
   "source": [
    "dataset.loc[dataset[\"CATEGORY\"] == \"COLD CEREAL\", \"AVG_WEEKLY_BASKETS\"].min() # Average weekly baskets for cold cereal"
   ]
  },
  {
   "cell_type": "code",
   "execution_count": 17,
   "metadata": {},
   "outputs": [
    {
     "data": {
      "text/plain": [
       "54052.51923"
      ]
     },
     "execution_count": 17,
     "metadata": {},
     "output_type": "execute_result"
    }
   ],
   "source": [
    "dataset.loc[dataset[\"CATEGORY\"] == \"COLD CEREAL\", \"AVG_WEEKLY_BASKETS\"].max() # max value"
   ]
  },
  {
   "cell_type": "code",
   "execution_count": 18,
   "metadata": {},
   "outputs": [
    {
     "data": {
      "text/plain": [
       "WEEK_END_DATE              False\n",
       "STORE_ID                   False\n",
       "UPC                        False\n",
       "UNITS                      False\n",
       "VISITS                     False\n",
       "HHS                        False\n",
       "SPEND                      False\n",
       "PRICE                       True\n",
       "BASE_PRICE                  True\n",
       "FEATURE                    False\n",
       "DISPLAY                    False\n",
       "TPR_ONLY                   False\n",
       "DESCRIPTION                False\n",
       "MANUFACTURER               False\n",
       "CATEGORY                   False\n",
       "SUB_CATEGORY               False\n",
       "PRODUCT_SIZE               False\n",
       "STORE_NAME                 False\n",
       "ADDRESS_CITY_NAME          False\n",
       "ADDRESS_STATE_PROV_CODE    False\n",
       "MSA_CODE                   False\n",
       "SEG_VALUE_NAME             False\n",
       "PARKING_SPACE_QTY           True\n",
       "SALES_AREA_SIZE_NUM        False\n",
       "AVG_WEEKLY_BASKETS         False\n",
       "dtype: bool"
      ]
     },
     "metadata": {},
     "output_type": "display_data"
    }
   ],
   "source": [
    "display(dataset.iloc[:,:].isnull().any()) # which column has null values"
   ]
  },
  {
   "cell_type": "code",
   "execution_count": 19,
   "metadata": {},
   "outputs": [
    {
     "data": {
      "text/html": [
       "<div>\n",
       "<style scoped>\n",
       "    .dataframe tbody tr th:only-of-type {\n",
       "        vertical-align: middle;\n",
       "    }\n",
       "\n",
       "    .dataframe tbody tr th {\n",
       "        vertical-align: top;\n",
       "    }\n",
       "\n",
       "    .dataframe thead th {\n",
       "        text-align: right;\n",
       "    }\n",
       "</style>\n",
       "<table border=\"1\" class=\"dataframe\">\n",
       "  <thead>\n",
       "    <tr style=\"text-align: right;\">\n",
       "      <th></th>\n",
       "      <th>STORE_ID</th>\n",
       "      <th>UPC</th>\n",
       "      <th>UNITS</th>\n",
       "      <th>VISITS</th>\n",
       "      <th>HHS</th>\n",
       "      <th>SPEND</th>\n",
       "      <th>PRICE</th>\n",
       "      <th>BASE_PRICE</th>\n",
       "      <th>FEATURE</th>\n",
       "      <th>DISPLAY</th>\n",
       "      <th>TPR_ONLY</th>\n",
       "      <th>MSA_CODE</th>\n",
       "      <th>PARKING_SPACE_QTY</th>\n",
       "      <th>SALES_AREA_SIZE_NUM</th>\n",
       "      <th>AVG_WEEKLY_BASKETS</th>\n",
       "    </tr>\n",
       "  </thead>\n",
       "  <tbody>\n",
       "    <tr>\n",
       "      <th>count</th>\n",
       "      <td>538643.000000</td>\n",
       "      <td>5.386430e+05</td>\n",
       "      <td>538643.000000</td>\n",
       "      <td>538643.000000</td>\n",
       "      <td>538643.000000</td>\n",
       "      <td>538643.000000</td>\n",
       "      <td>538620.000000</td>\n",
       "      <td>538458.000000</td>\n",
       "      <td>538643.000000</td>\n",
       "      <td>538643.000000</td>\n",
       "      <td>538643.000000</td>\n",
       "      <td>538643.000000</td>\n",
       "      <td>172582.000000</td>\n",
       "      <td>538643.000000</td>\n",
       "      <td>538643.000000</td>\n",
       "    </tr>\n",
       "    <tr>\n",
       "      <th>mean</th>\n",
       "      <td>14596.501083</td>\n",
       "      <td>1.031484e+10</td>\n",
       "      <td>19.623368</td>\n",
       "      <td>17.181955</td>\n",
       "      <td>16.796210</td>\n",
       "      <td>53.273423</td>\n",
       "      <td>3.385351</td>\n",
       "      <td>3.605351</td>\n",
       "      <td>0.084468</td>\n",
       "      <td>0.110377</td>\n",
       "      <td>0.133842</td>\n",
       "      <td>21089.268959</td>\n",
       "      <td>519.009364</td>\n",
       "      <td>50274.398459</td>\n",
       "      <td>24643.620653</td>\n",
       "    </tr>\n",
       "    <tr>\n",
       "      <th>std</th>\n",
       "      <td>8858.796742</td>\n",
       "      <td>2.082019e+10</td>\n",
       "      <td>29.851075</td>\n",
       "      <td>24.652451</td>\n",
       "      <td>24.102473</td>\n",
       "      <td>68.011688</td>\n",
       "      <td>1.560570</td>\n",
       "      <td>1.632829</td>\n",
       "      <td>0.278088</td>\n",
       "      <td>0.313360</td>\n",
       "      <td>0.340483</td>\n",
       "      <td>6128.940040</td>\n",
       "      <td>421.462428</td>\n",
       "      <td>13318.597040</td>\n",
       "      <td>8811.870791</td>\n",
       "    </tr>\n",
       "    <tr>\n",
       "      <th>min</th>\n",
       "      <td>367.000000</td>\n",
       "      <td>1.111009e+09</td>\n",
       "      <td>0.000000</td>\n",
       "      <td>1.000000</td>\n",
       "      <td>1.000000</td>\n",
       "      <td>0.000000</td>\n",
       "      <td>0.000000</td>\n",
       "      <td>0.550000</td>\n",
       "      <td>0.000000</td>\n",
       "      <td>0.000000</td>\n",
       "      <td>0.000000</td>\n",
       "      <td>13140.000000</td>\n",
       "      <td>17.000000</td>\n",
       "      <td>10788.000000</td>\n",
       "      <td>10434.705130</td>\n",
       "    </tr>\n",
       "    <tr>\n",
       "      <th>25%</th>\n",
       "      <td>6179.000000</td>\n",
       "      <td>1.111087e+09</td>\n",
       "      <td>4.000000</td>\n",
       "      <td>4.000000</td>\n",
       "      <td>4.000000</td>\n",
       "      <td>13.470000</td>\n",
       "      <td>2.370000</td>\n",
       "      <td>2.500000</td>\n",
       "      <td>0.000000</td>\n",
       "      <td>0.000000</td>\n",
       "      <td>0.000000</td>\n",
       "      <td>17140.000000</td>\n",
       "      <td>294.000000</td>\n",
       "      <td>44175.000000</td>\n",
       "      <td>18196.820510</td>\n",
       "    </tr>\n",
       "    <tr>\n",
       "      <th>50%</th>\n",
       "      <td>15541.000000</td>\n",
       "      <td>3.700032e+09</td>\n",
       "      <td>11.000000</td>\n",
       "      <td>9.000000</td>\n",
       "      <td>9.000000</td>\n",
       "      <td>32.130000</td>\n",
       "      <td>2.990000</td>\n",
       "      <td>3.180000</td>\n",
       "      <td>0.000000</td>\n",
       "      <td>0.000000</td>\n",
       "      <td>0.000000</td>\n",
       "      <td>19100.000000</td>\n",
       "      <td>351.000000</td>\n",
       "      <td>48782.000000</td>\n",
       "      <td>24766.807690</td>\n",
       "    </tr>\n",
       "    <tr>\n",
       "      <th>75%</th>\n",
       "      <td>23061.000000</td>\n",
       "      <td>7.192100e+09</td>\n",
       "      <td>24.000000</td>\n",
       "      <td>21.000000</td>\n",
       "      <td>21.000000</td>\n",
       "      <td>67.830000</td>\n",
       "      <td>4.490000</td>\n",
       "      <td>4.590000</td>\n",
       "      <td>0.000000</td>\n",
       "      <td>0.000000</td>\n",
       "      <td>0.000000</td>\n",
       "      <td>26420.000000</td>\n",
       "      <td>513.000000</td>\n",
       "      <td>55663.000000</td>\n",
       "      <td>29435.628210</td>\n",
       "    </tr>\n",
       "    <tr>\n",
       "      <th>85%</th>\n",
       "      <td>25021.000000</td>\n",
       "      <td>7.797508e+09</td>\n",
       "      <td>35.000000</td>\n",
       "      <td>31.000000</td>\n",
       "      <td>30.000000</td>\n",
       "      <td>96.480000</td>\n",
       "      <td>4.990000</td>\n",
       "      <td>5.640000</td>\n",
       "      <td>0.000000</td>\n",
       "      <td>0.000000</td>\n",
       "      <td>0.000000</td>\n",
       "      <td>26420.000000</td>\n",
       "      <td>771.000000</td>\n",
       "      <td>59241.000000</td>\n",
       "      <td>32490.858970</td>\n",
       "    </tr>\n",
       "    <tr>\n",
       "      <th>95%</th>\n",
       "      <td>26983.000000</td>\n",
       "      <td>8.849120e+10</td>\n",
       "      <td>66.000000</td>\n",
       "      <td>57.000000</td>\n",
       "      <td>56.000000</td>\n",
       "      <td>169.860000</td>\n",
       "      <td>6.590000</td>\n",
       "      <td>6.890000</td>\n",
       "      <td>1.000000</td>\n",
       "      <td>1.000000</td>\n",
       "      <td>1.000000</td>\n",
       "      <td>26420.000000</td>\n",
       "      <td>1441.000000</td>\n",
       "      <td>81958.000000</td>\n",
       "      <td>38465.128210</td>\n",
       "    </tr>\n",
       "    <tr>\n",
       "      <th>99%</th>\n",
       "      <td>29159.000000</td>\n",
       "      <td>8.849121e+10</td>\n",
       "      <td>137.000000</td>\n",
       "      <td>116.000000</td>\n",
       "      <td>114.000000</td>\n",
       "      <td>317.500000</td>\n",
       "      <td>7.490000</td>\n",
       "      <td>7.490000</td>\n",
       "      <td>1.000000</td>\n",
       "      <td>1.000000</td>\n",
       "      <td>1.000000</td>\n",
       "      <td>47540.000000</td>\n",
       "      <td>1859.000000</td>\n",
       "      <td>86517.000000</td>\n",
       "      <td>54052.519230</td>\n",
       "    </tr>\n",
       "    <tr>\n",
       "      <th>max</th>\n",
       "      <td>29159.000000</td>\n",
       "      <td>8.849121e+10</td>\n",
       "      <td>1800.000000</td>\n",
       "      <td>1340.000000</td>\n",
       "      <td>1286.000000</td>\n",
       "      <td>2952.000000</td>\n",
       "      <td>11.460000</td>\n",
       "      <td>11.460000</td>\n",
       "      <td>1.000000</td>\n",
       "      <td>1.000000</td>\n",
       "      <td>1.000000</td>\n",
       "      <td>47540.000000</td>\n",
       "      <td>1859.000000</td>\n",
       "      <td>86517.000000</td>\n",
       "      <td>54052.519230</td>\n",
       "    </tr>\n",
       "  </tbody>\n",
       "</table>\n",
       "</div>"
      ],
      "text/plain": [
       "            STORE_ID           UPC          UNITS         VISITS  \\\n",
       "count  538643.000000  5.386430e+05  538643.000000  538643.000000   \n",
       "mean    14596.501083  1.031484e+10      19.623368      17.181955   \n",
       "std      8858.796742  2.082019e+10      29.851075      24.652451   \n",
       "min       367.000000  1.111009e+09       0.000000       1.000000   \n",
       "25%      6179.000000  1.111087e+09       4.000000       4.000000   \n",
       "50%     15541.000000  3.700032e+09      11.000000       9.000000   \n",
       "75%     23061.000000  7.192100e+09      24.000000      21.000000   \n",
       "85%     25021.000000  7.797508e+09      35.000000      31.000000   \n",
       "95%     26983.000000  8.849120e+10      66.000000      57.000000   \n",
       "99%     29159.000000  8.849121e+10     137.000000     116.000000   \n",
       "max     29159.000000  8.849121e+10    1800.000000    1340.000000   \n",
       "\n",
       "                 HHS          SPEND          PRICE     BASE_PRICE  \\\n",
       "count  538643.000000  538643.000000  538620.000000  538458.000000   \n",
       "mean       16.796210      53.273423       3.385351       3.605351   \n",
       "std        24.102473      68.011688       1.560570       1.632829   \n",
       "min         1.000000       0.000000       0.000000       0.550000   \n",
       "25%         4.000000      13.470000       2.370000       2.500000   \n",
       "50%         9.000000      32.130000       2.990000       3.180000   \n",
       "75%        21.000000      67.830000       4.490000       4.590000   \n",
       "85%        30.000000      96.480000       4.990000       5.640000   \n",
       "95%        56.000000     169.860000       6.590000       6.890000   \n",
       "99%       114.000000     317.500000       7.490000       7.490000   \n",
       "max      1286.000000    2952.000000      11.460000      11.460000   \n",
       "\n",
       "             FEATURE        DISPLAY       TPR_ONLY       MSA_CODE  \\\n",
       "count  538643.000000  538643.000000  538643.000000  538643.000000   \n",
       "mean        0.084468       0.110377       0.133842   21089.268959   \n",
       "std         0.278088       0.313360       0.340483    6128.940040   \n",
       "min         0.000000       0.000000       0.000000   13140.000000   \n",
       "25%         0.000000       0.000000       0.000000   17140.000000   \n",
       "50%         0.000000       0.000000       0.000000   19100.000000   \n",
       "75%         0.000000       0.000000       0.000000   26420.000000   \n",
       "85%         0.000000       0.000000       0.000000   26420.000000   \n",
       "95%         1.000000       1.000000       1.000000   26420.000000   \n",
       "99%         1.000000       1.000000       1.000000   47540.000000   \n",
       "max         1.000000       1.000000       1.000000   47540.000000   \n",
       "\n",
       "       PARKING_SPACE_QTY  SALES_AREA_SIZE_NUM  AVG_WEEKLY_BASKETS  \n",
       "count      172582.000000        538643.000000       538643.000000  \n",
       "mean          519.009364         50274.398459        24643.620653  \n",
       "std           421.462428         13318.597040         8811.870791  \n",
       "min            17.000000         10788.000000        10434.705130  \n",
       "25%           294.000000         44175.000000        18196.820510  \n",
       "50%           351.000000         48782.000000        24766.807690  \n",
       "75%           513.000000         55663.000000        29435.628210  \n",
       "85%           771.000000         59241.000000        32490.858970  \n",
       "95%          1441.000000         81958.000000        38465.128210  \n",
       "99%          1859.000000         86517.000000        54052.519230  \n",
       "max          1859.000000         86517.000000        54052.519230  "
      ]
     },
     "metadata": {},
     "output_type": "display_data"
    }
   ],
   "source": [
    "display(dataset.describe(percentiles = [0.25,0.5,0.75,0.85,0.95,0.99])) # More detailed percentile values"
   ]
  },
  {
   "cell_type": "code",
   "execution_count": 22,
   "metadata": {},
   "outputs": [
    {
     "data": {
      "text/plain": [
       "STORE_ID              -0.132817\n",
       "UPC                    3.158668\n",
       "UNITS                  6.825069\n",
       "VISITS                 5.833977\n",
       "HHS                    5.777989\n",
       "SPEND                  4.758278\n",
       "PRICE                  0.760459\n",
       "BASE_PRICE             0.731886\n",
       "FEATURE                2.988501\n",
       "DISPLAY                2.486752\n",
       "TPR_ONLY               2.150826\n",
       "MSA_CODE               2.374930\n",
       "PARKING_SPACE_QTY      1.994172\n",
       "SALES_AREA_SIZE_NUM    0.617791\n",
       "AVG_WEEKLY_BASKETS     0.900070\n",
       "dtype: float64"
      ]
     },
     "execution_count": 22,
     "metadata": {},
     "output_type": "execute_result"
    }
   ],
   "source": [
    "dataset.skew() # Skewness"
   ]
  },
  {
   "cell_type": "code",
   "execution_count": 23,
   "metadata": {},
   "outputs": [
    {
     "name": "stdout",
     "output_type": "stream",
     "text": [
      "                     STORE_ID       UPC     UNITS    VISITS       HHS  \\\n",
      "STORE_ID             1.000000 -0.000687 -0.008249 -0.007082 -0.008624   \n",
      "UPC                 -0.000687  1.000000  0.006828  0.011052  0.001747   \n",
      "UNITS               -0.008249  0.006828  1.000000  0.986745  0.984880   \n",
      "VISITS              -0.007082  0.011052  0.986745  1.000000  0.998661   \n",
      "HHS                 -0.008624  0.001747  0.984880  0.998661  1.000000   \n",
      "SPEND               -0.011777  0.049088  0.903465  0.903685  0.899327   \n",
      "PRICE               -0.008600  0.045257 -0.282472 -0.285183 -0.287296   \n",
      "BASE_PRICE          -0.006438  0.034389 -0.219716 -0.225363 -0.226836   \n",
      "FEATURE             -0.004631 -0.010986  0.302062  0.291350  0.292185   \n",
      "DISPLAY              0.012742 -0.032137  0.307089  0.308061  0.310093   \n",
      "TPR_ONLY             0.008693 -0.042488 -0.024255 -0.033792 -0.032099   \n",
      "MSA_CODE            -0.039250  0.005218 -0.058527 -0.060665 -0.059954   \n",
      "PARKING_SPACE_QTY    0.359743 -0.014362  0.155554  0.163039  0.164080   \n",
      "SALES_AREA_SIZE_NUM  0.111842 -0.013245  0.171274  0.180457  0.185217   \n",
      "AVG_WEEKLY_BASKETS   0.094308 -0.008298  0.177501  0.187577  0.189120   \n",
      "\n",
      "                        SPEND     PRICE  BASE_PRICE   FEATURE   DISPLAY  \\\n",
      "STORE_ID            -0.011777 -0.008600   -0.006438 -0.004631  0.012742   \n",
      "UPC                  0.049088  0.045257    0.034389 -0.010986 -0.032137   \n",
      "UNITS                0.903465 -0.282472   -0.219716  0.302062  0.307089   \n",
      "VISITS               0.903685 -0.285183   -0.225363  0.291350  0.308061   \n",
      "HHS                  0.899327 -0.287296   -0.226836  0.292185  0.310093   \n",
      "SPEND                1.000000 -0.059148    0.013776  0.354158  0.303356   \n",
      "PRICE               -0.059148  1.000000    0.953582 -0.010460 -0.069202   \n",
      "BASE_PRICE           0.013776  0.953582    1.000000  0.155142  0.045245   \n",
      "FEATURE              0.354158 -0.010460    0.155142  1.000000  0.406791   \n",
      "DISPLAY              0.303356 -0.069202    0.045245  0.406791  1.000000   \n",
      "TPR_ONLY            -0.073387 -0.181578   -0.050318 -0.119401 -0.138463   \n",
      "MSA_CODE            -0.061609  0.002639    0.000998  0.014877 -0.003153   \n",
      "PARKING_SPACE_QTY    0.177201  0.015926    0.014697 -0.024850  0.022799   \n",
      "SALES_AREA_SIZE_NUM  0.196368  0.027197    0.023692 -0.019300  0.036096   \n",
      "AVG_WEEKLY_BASKETS   0.207742  0.015764    0.012424 -0.014464  0.020209   \n",
      "\n",
      "                     TPR_ONLY  MSA_CODE  PARKING_SPACE_QTY  \\\n",
      "STORE_ID             0.008693 -0.039250           0.359743   \n",
      "UPC                 -0.042488  0.005218          -0.014362   \n",
      "UNITS               -0.024255 -0.058527           0.155554   \n",
      "VISITS              -0.033792 -0.060665           0.163039   \n",
      "HHS                 -0.032099 -0.059954           0.164080   \n",
      "SPEND               -0.073387 -0.061609           0.177201   \n",
      "PRICE               -0.181578  0.002639           0.015926   \n",
      "BASE_PRICE          -0.050318  0.000998           0.014697   \n",
      "FEATURE             -0.119401  0.014877          -0.024850   \n",
      "DISPLAY             -0.138463 -0.003153           0.022799   \n",
      "TPR_ONLY             1.000000 -0.019800           0.009286   \n",
      "MSA_CODE            -0.019800  1.000000          -0.332207   \n",
      "PARKING_SPACE_QTY    0.009286 -0.332207           1.000000   \n",
      "SALES_AREA_SIZE_NUM -0.008333 -0.140646           0.742935   \n",
      "AVG_WEEKLY_BASKETS  -0.009105 -0.050598           0.755644   \n",
      "\n",
      "                     SALES_AREA_SIZE_NUM  AVG_WEEKLY_BASKETS  \n",
      "STORE_ID                        0.111842            0.094308  \n",
      "UPC                            -0.013245           -0.008298  \n",
      "UNITS                           0.171274            0.177501  \n",
      "VISITS                          0.180457            0.187577  \n",
      "HHS                             0.185217            0.189120  \n",
      "SPEND                           0.196368            0.207742  \n",
      "PRICE                           0.027197            0.015764  \n",
      "BASE_PRICE                      0.023692            0.012424  \n",
      "FEATURE                        -0.019300           -0.014464  \n",
      "DISPLAY                         0.036096            0.020209  \n",
      "TPR_ONLY                       -0.008333           -0.009105  \n",
      "MSA_CODE                       -0.140646           -0.050598  \n",
      "PARKING_SPACE_QTY               0.742935            0.755644  \n",
      "SALES_AREA_SIZE_NUM             1.000000            0.694574  \n",
      "AVG_WEEKLY_BASKETS              0.694574            1.000000  \n"
     ]
    }
   ],
   "source": [
    "Corr = dataset.corr() # Pairwise correlation of all the columns in the dataframe\n",
    "print(Corr)\n",
    "Corr = pd.DataFrame(Corr)\n",
    "Corr.to_csv('out.csv')"
   ]
  },
  {
   "cell_type": "code",
   "execution_count": 25,
   "metadata": {},
   "outputs": [],
   "source": [
    "discount = dataset['BASE_PRICE'] - dataset['PRICE'] # Data Conversion (to find discount value and add it as a new column)"
   ]
  },
  {
   "cell_type": "code",
   "execution_count": 26,
   "metadata": {},
   "outputs": [],
   "source": [
    "dataset['discount'] = discount"
   ]
  },
  {
   "cell_type": "code",
   "execution_count": 27,
   "metadata": {},
   "outputs": [],
   "source": [
    "dataset.to_csv(\"br.csv\", index = False)"
   ]
  },
  {
   "cell_type": "code",
   "execution_count": 28,
   "metadata": {},
   "outputs": [
    {
     "data": {
      "text/html": [
       "<div>\n",
       "<style scoped>\n",
       "    .dataframe tbody tr th:only-of-type {\n",
       "        vertical-align: middle;\n",
       "    }\n",
       "\n",
       "    .dataframe tbody tr th {\n",
       "        vertical-align: top;\n",
       "    }\n",
       "\n",
       "    .dataframe thead th {\n",
       "        text-align: right;\n",
       "    }\n",
       "</style>\n",
       "<table border=\"1\" class=\"dataframe\">\n",
       "  <thead>\n",
       "    <tr style=\"text-align: right;\">\n",
       "      <th></th>\n",
       "      <th>WEEK_END_DATE</th>\n",
       "      <th>STORE_ID</th>\n",
       "      <th>UPC</th>\n",
       "      <th>UNITS</th>\n",
       "      <th>VISITS</th>\n",
       "      <th>HHS</th>\n",
       "      <th>SPEND</th>\n",
       "      <th>PRICE</th>\n",
       "      <th>BASE_PRICE</th>\n",
       "      <th>FEATURE</th>\n",
       "      <th>DISPLAY</th>\n",
       "      <th>TPR_ONLY</th>\n",
       "      <th>DESCRIPTION</th>\n",
       "      <th>MANUFACTURER</th>\n",
       "      <th>CATEGORY</th>\n",
       "      <th>SUB_CATEGORY</th>\n",
       "      <th>PRODUCT_SIZE</th>\n",
       "      <th>STORE_NAME</th>\n",
       "      <th>ADDRESS_CITY_NAME</th>\n",
       "      <th>ADDRESS_STATE_PROV_CODE</th>\n",
       "      <th>MSA_CODE</th>\n",
       "      <th>SEG_VALUE_NAME</th>\n",
       "      <th>PARKING_SPACE_QTY</th>\n",
       "      <th>SALES_AREA_SIZE_NUM</th>\n",
       "      <th>AVG_WEEKLY_BASKETS</th>\n",
       "      <th>discount</th>\n",
       "    </tr>\n",
       "  </thead>\n",
       "  <tbody>\n",
       "    <tr>\n",
       "      <th>0</th>\n",
       "      <td>1/14/2009</td>\n",
       "      <td>367</td>\n",
       "      <td>1111009477</td>\n",
       "      <td>13</td>\n",
       "      <td>13</td>\n",
       "      <td>13</td>\n",
       "      <td>18.07</td>\n",
       "      <td>1.39</td>\n",
       "      <td>1.57</td>\n",
       "      <td>0</td>\n",
       "      <td>0</td>\n",
       "      <td>1</td>\n",
       "      <td>PL MINI TWIST PRETZELS</td>\n",
       "      <td>PRIVATE LABEL</td>\n",
       "      <td>BAG SNACKS</td>\n",
       "      <td>PRETZELS</td>\n",
       "      <td>15 OZ</td>\n",
       "      <td>15TH &amp; MADISON</td>\n",
       "      <td>COVINGTON</td>\n",
       "      <td>KY</td>\n",
       "      <td>17140</td>\n",
       "      <td>VALUE</td>\n",
       "      <td>196.0</td>\n",
       "      <td>24721</td>\n",
       "      <td>12706.53205</td>\n",
       "      <td>0.18</td>\n",
       "    </tr>\n",
       "    <tr>\n",
       "      <th>1</th>\n",
       "      <td>1/21/2009</td>\n",
       "      <td>367</td>\n",
       "      <td>1111009477</td>\n",
       "      <td>24</td>\n",
       "      <td>23</td>\n",
       "      <td>23</td>\n",
       "      <td>33.36</td>\n",
       "      <td>1.39</td>\n",
       "      <td>1.57</td>\n",
       "      <td>0</td>\n",
       "      <td>0</td>\n",
       "      <td>1</td>\n",
       "      <td>PL MINI TWIST PRETZELS</td>\n",
       "      <td>PRIVATE LABEL</td>\n",
       "      <td>BAG SNACKS</td>\n",
       "      <td>PRETZELS</td>\n",
       "      <td>15 OZ</td>\n",
       "      <td>15TH &amp; MADISON</td>\n",
       "      <td>COVINGTON</td>\n",
       "      <td>KY</td>\n",
       "      <td>17140</td>\n",
       "      <td>VALUE</td>\n",
       "      <td>196.0</td>\n",
       "      <td>24721</td>\n",
       "      <td>12706.53205</td>\n",
       "      <td>0.18</td>\n",
       "    </tr>\n",
       "    <tr>\n",
       "      <th>2</th>\n",
       "      <td>1/28/2009</td>\n",
       "      <td>367</td>\n",
       "      <td>1111009477</td>\n",
       "      <td>7</td>\n",
       "      <td>7</td>\n",
       "      <td>7</td>\n",
       "      <td>9.52</td>\n",
       "      <td>1.36</td>\n",
       "      <td>1.36</td>\n",
       "      <td>0</td>\n",
       "      <td>0</td>\n",
       "      <td>0</td>\n",
       "      <td>PL MINI TWIST PRETZELS</td>\n",
       "      <td>PRIVATE LABEL</td>\n",
       "      <td>BAG SNACKS</td>\n",
       "      <td>PRETZELS</td>\n",
       "      <td>15 OZ</td>\n",
       "      <td>15TH &amp; MADISON</td>\n",
       "      <td>COVINGTON</td>\n",
       "      <td>KY</td>\n",
       "      <td>17140</td>\n",
       "      <td>VALUE</td>\n",
       "      <td>196.0</td>\n",
       "      <td>24721</td>\n",
       "      <td>12706.53205</td>\n",
       "      <td>0.00</td>\n",
       "    </tr>\n",
       "    <tr>\n",
       "      <th>3</th>\n",
       "      <td>2/4/2009</td>\n",
       "      <td>367</td>\n",
       "      <td>1111009477</td>\n",
       "      <td>12</td>\n",
       "      <td>12</td>\n",
       "      <td>12</td>\n",
       "      <td>16.56</td>\n",
       "      <td>1.38</td>\n",
       "      <td>1.38</td>\n",
       "      <td>0</td>\n",
       "      <td>0</td>\n",
       "      <td>0</td>\n",
       "      <td>PL MINI TWIST PRETZELS</td>\n",
       "      <td>PRIVATE LABEL</td>\n",
       "      <td>BAG SNACKS</td>\n",
       "      <td>PRETZELS</td>\n",
       "      <td>15 OZ</td>\n",
       "      <td>15TH &amp; MADISON</td>\n",
       "      <td>COVINGTON</td>\n",
       "      <td>KY</td>\n",
       "      <td>17140</td>\n",
       "      <td>VALUE</td>\n",
       "      <td>196.0</td>\n",
       "      <td>24721</td>\n",
       "      <td>12706.53205</td>\n",
       "      <td>0.00</td>\n",
       "    </tr>\n",
       "    <tr>\n",
       "      <th>4</th>\n",
       "      <td>2/11/2009</td>\n",
       "      <td>367</td>\n",
       "      <td>1111009477</td>\n",
       "      <td>16</td>\n",
       "      <td>14</td>\n",
       "      <td>14</td>\n",
       "      <td>24.00</td>\n",
       "      <td>1.50</td>\n",
       "      <td>1.50</td>\n",
       "      <td>0</td>\n",
       "      <td>0</td>\n",
       "      <td>0</td>\n",
       "      <td>PL MINI TWIST PRETZELS</td>\n",
       "      <td>PRIVATE LABEL</td>\n",
       "      <td>BAG SNACKS</td>\n",
       "      <td>PRETZELS</td>\n",
       "      <td>15 OZ</td>\n",
       "      <td>15TH &amp; MADISON</td>\n",
       "      <td>COVINGTON</td>\n",
       "      <td>KY</td>\n",
       "      <td>17140</td>\n",
       "      <td>VALUE</td>\n",
       "      <td>196.0</td>\n",
       "      <td>24721</td>\n",
       "      <td>12706.53205</td>\n",
       "      <td>0.00</td>\n",
       "    </tr>\n",
       "  </tbody>\n",
       "</table>\n",
       "</div>"
      ],
      "text/plain": [
       "  WEEK_END_DATE  STORE_ID         UPC  UNITS  VISITS  HHS  SPEND  PRICE  \\\n",
       "0     1/14/2009       367  1111009477     13      13   13  18.07   1.39   \n",
       "1     1/21/2009       367  1111009477     24      23   23  33.36   1.39   \n",
       "2     1/28/2009       367  1111009477      7       7    7   9.52   1.36   \n",
       "3      2/4/2009       367  1111009477     12      12   12  16.56   1.38   \n",
       "4     2/11/2009       367  1111009477     16      14   14  24.00   1.50   \n",
       "\n",
       "   BASE_PRICE  FEATURE  DISPLAY  TPR_ONLY             DESCRIPTION  \\\n",
       "0        1.57        0        0         1  PL MINI TWIST PRETZELS   \n",
       "1        1.57        0        0         1  PL MINI TWIST PRETZELS   \n",
       "2        1.36        0        0         0  PL MINI TWIST PRETZELS   \n",
       "3        1.38        0        0         0  PL MINI TWIST PRETZELS   \n",
       "4        1.50        0        0         0  PL MINI TWIST PRETZELS   \n",
       "\n",
       "    MANUFACTURER    CATEGORY SUB_CATEGORY PRODUCT_SIZE      STORE_NAME  \\\n",
       "0  PRIVATE LABEL  BAG SNACKS     PRETZELS        15 OZ  15TH & MADISON   \n",
       "1  PRIVATE LABEL  BAG SNACKS     PRETZELS        15 OZ  15TH & MADISON   \n",
       "2  PRIVATE LABEL  BAG SNACKS     PRETZELS        15 OZ  15TH & MADISON   \n",
       "3  PRIVATE LABEL  BAG SNACKS     PRETZELS        15 OZ  15TH & MADISON   \n",
       "4  PRIVATE LABEL  BAG SNACKS     PRETZELS        15 OZ  15TH & MADISON   \n",
       "\n",
       "  ADDRESS_CITY_NAME ADDRESS_STATE_PROV_CODE  MSA_CODE SEG_VALUE_NAME  \\\n",
       "0         COVINGTON                      KY     17140          VALUE   \n",
       "1         COVINGTON                      KY     17140          VALUE   \n",
       "2         COVINGTON                      KY     17140          VALUE   \n",
       "3         COVINGTON                      KY     17140          VALUE   \n",
       "4         COVINGTON                      KY     17140          VALUE   \n",
       "\n",
       "   PARKING_SPACE_QTY  SALES_AREA_SIZE_NUM  AVG_WEEKLY_BASKETS  discount  \n",
       "0              196.0                24721         12706.53205      0.18  \n",
       "1              196.0                24721         12706.53205      0.18  \n",
       "2              196.0                24721         12706.53205      0.00  \n",
       "3              196.0                24721         12706.53205      0.00  \n",
       "4              196.0                24721         12706.53205      0.00  "
      ]
     },
     "execution_count": 28,
     "metadata": {},
     "output_type": "execute_result"
    }
   ],
   "source": [
    "dataset.head()"
   ]
  },
  {
   "cell_type": "code",
   "execution_count": 29,
   "metadata": {},
   "outputs": [
    {
     "data": {
      "text/plain": [
       "458371    BAG SNACKS\n",
       "Name: CATEGORY, dtype: object"
      ]
     },
     "execution_count": 29,
     "metadata": {},
     "output_type": "execute_result"
    }
   ],
   "source": [
    "dataset['CATEGORY'][dataset['BASE_PRICE'] == dataset['BASE_PRICE'].min()] # Conditional Statement displays the category with minimum base price"
   ]
  },
  {
   "cell_type": "code",
   "execution_count": 30,
   "metadata": {},
   "outputs": [
    {
     "data": {
      "text/html": [
       "<div>\n",
       "<style scoped>\n",
       "    .dataframe tbody tr th:only-of-type {\n",
       "        vertical-align: middle;\n",
       "    }\n",
       "\n",
       "    .dataframe tbody tr th {\n",
       "        vertical-align: top;\n",
       "    }\n",
       "\n",
       "    .dataframe thead th {\n",
       "        text-align: right;\n",
       "    }\n",
       "</style>\n",
       "<table border=\"1\" class=\"dataframe\">\n",
       "  <thead>\n",
       "    <tr style=\"text-align: right;\">\n",
       "      <th></th>\n",
       "      <th>WEEK_END_DATE</th>\n",
       "      <th>STORE_ID</th>\n",
       "      <th>UPC</th>\n",
       "      <th>UNITS</th>\n",
       "      <th>VISITS</th>\n",
       "      <th>HHS</th>\n",
       "      <th>SPEND</th>\n",
       "      <th>PRICE</th>\n",
       "      <th>BASE_PRICE</th>\n",
       "      <th>FEATURE</th>\n",
       "      <th>DISPLAY</th>\n",
       "      <th>TPR_ONLY</th>\n",
       "      <th>DESCRIPTION</th>\n",
       "      <th>MANUFACTURER</th>\n",
       "      <th>CATEGORY</th>\n",
       "      <th>SUB_CATEGORY</th>\n",
       "      <th>PRODUCT_SIZE</th>\n",
       "      <th>STORE_NAME</th>\n",
       "      <th>ADDRESS_CITY_NAME</th>\n",
       "      <th>ADDRESS_STATE_PROV_CODE</th>\n",
       "      <th>MSA_CODE</th>\n",
       "      <th>SEG_VALUE_NAME</th>\n",
       "      <th>PARKING_SPACE_QTY</th>\n",
       "      <th>SALES_AREA_SIZE_NUM</th>\n",
       "      <th>AVG_WEEKLY_BASKETS</th>\n",
       "      <th>discount</th>\n",
       "    </tr>\n",
       "  </thead>\n",
       "  <tbody>\n",
       "    <tr>\n",
       "      <th>458371</th>\n",
       "      <td>1/13/2010</td>\n",
       "      <td>25021</td>\n",
       "      <td>7027316404</td>\n",
       "      <td>6</td>\n",
       "      <td>5</td>\n",
       "      <td>5</td>\n",
       "      <td>3.3</td>\n",
       "      <td>0.55</td>\n",
       "      <td>0.55</td>\n",
       "      <td>0</td>\n",
       "      <td>0</td>\n",
       "      <td>0</td>\n",
       "      <td>SHURGD PRETZEL STICKS</td>\n",
       "      <td>SHULTZ</td>\n",
       "      <td>BAG SNACKS</td>\n",
       "      <td>PRETZELS</td>\n",
       "      <td>16 OZ</td>\n",
       "      <td>HAMILTON</td>\n",
       "      <td>HAMILTON</td>\n",
       "      <td>OH</td>\n",
       "      <td>17140</td>\n",
       "      <td>VALUE</td>\n",
       "      <td>1441.0</td>\n",
       "      <td>62961</td>\n",
       "      <td>34191.00641</td>\n",
       "      <td>0.0</td>\n",
       "    </tr>\n",
       "    <tr>\n",
       "      <th>458372</th>\n",
       "      <td>1/20/2010</td>\n",
       "      <td>25021</td>\n",
       "      <td>7027316404</td>\n",
       "      <td>6</td>\n",
       "      <td>4</td>\n",
       "      <td>4</td>\n",
       "      <td>9.9</td>\n",
       "      <td>1.65</td>\n",
       "      <td>1.65</td>\n",
       "      <td>0</td>\n",
       "      <td>0</td>\n",
       "      <td>0</td>\n",
       "      <td>SHURGD PRETZEL STICKS</td>\n",
       "      <td>SHULTZ</td>\n",
       "      <td>BAG SNACKS</td>\n",
       "      <td>PRETZELS</td>\n",
       "      <td>16 OZ</td>\n",
       "      <td>HAMILTON</td>\n",
       "      <td>HAMILTON</td>\n",
       "      <td>OH</td>\n",
       "      <td>17140</td>\n",
       "      <td>VALUE</td>\n",
       "      <td>1441.0</td>\n",
       "      <td>62961</td>\n",
       "      <td>34191.00641</td>\n",
       "      <td>0.0</td>\n",
       "    </tr>\n",
       "  </tbody>\n",
       "</table>\n",
       "</div>"
      ],
      "text/plain": [
       "       WEEK_END_DATE  STORE_ID         UPC  UNITS  VISITS  HHS  SPEND  PRICE  \\\n",
       "458371     1/13/2010     25021  7027316404      6       5    5    3.3   0.55   \n",
       "458372     1/20/2010     25021  7027316404      6       4    4    9.9   1.65   \n",
       "\n",
       "        BASE_PRICE  FEATURE  DISPLAY  TPR_ONLY            DESCRIPTION  \\\n",
       "458371        0.55        0        0         0  SHURGD PRETZEL STICKS   \n",
       "458372        1.65        0        0         0  SHURGD PRETZEL STICKS   \n",
       "\n",
       "       MANUFACTURER    CATEGORY SUB_CATEGORY PRODUCT_SIZE STORE_NAME  \\\n",
       "458371       SHULTZ  BAG SNACKS     PRETZELS        16 OZ   HAMILTON   \n",
       "458372       SHULTZ  BAG SNACKS     PRETZELS        16 OZ   HAMILTON   \n",
       "\n",
       "       ADDRESS_CITY_NAME ADDRESS_STATE_PROV_CODE  MSA_CODE SEG_VALUE_NAME  \\\n",
       "458371          HAMILTON                      OH     17140          VALUE   \n",
       "458372          HAMILTON                      OH     17140          VALUE   \n",
       "\n",
       "        PARKING_SPACE_QTY  SALES_AREA_SIZE_NUM  AVG_WEEKLY_BASKETS  discount  \n",
       "458371             1441.0                62961         34191.00641       0.0  \n",
       "458372             1441.0                62961         34191.00641       0.0  "
      ]
     },
     "execution_count": 30,
     "metadata": {},
     "output_type": "execute_result"
    }
   ],
   "source": [
    "dataset[458371:458373] # We visualized the particular rows for minimum base price"
   ]
  },
  {
   "cell_type": "code",
   "execution_count": 31,
   "metadata": {},
   "outputs": [
    {
     "data": {
      "text/plain": [
       "333623    ORAL HYGIENE PRODUCTS\n",
       "333624    ORAL HYGIENE PRODUCTS\n",
       "333625    ORAL HYGIENE PRODUCTS\n",
       "333626    ORAL HYGIENE PRODUCTS\n",
       "333627    ORAL HYGIENE PRODUCTS\n",
       "333628    ORAL HYGIENE PRODUCTS\n",
       "333629    ORAL HYGIENE PRODUCTS\n",
       "Name: CATEGORY, dtype: object"
      ]
     },
     "execution_count": 31,
     "metadata": {},
     "output_type": "execute_result"
    }
   ],
   "source": [
    "dataset['CATEGORY'][dataset['BASE_PRICE'] == dataset['BASE_PRICE'].max()] # displays the category with maximum base price"
   ]
  },
  {
   "cell_type": "code",
   "execution_count": 32,
   "metadata": {},
   "outputs": [
    {
     "data": {
      "text/html": [
       "<div>\n",
       "<style scoped>\n",
       "    .dataframe tbody tr th:only-of-type {\n",
       "        vertical-align: middle;\n",
       "    }\n",
       "\n",
       "    .dataframe tbody tr th {\n",
       "        vertical-align: top;\n",
       "    }\n",
       "\n",
       "    .dataframe thead th {\n",
       "        text-align: right;\n",
       "    }\n",
       "</style>\n",
       "<table border=\"1\" class=\"dataframe\">\n",
       "  <thead>\n",
       "    <tr style=\"text-align: right;\">\n",
       "      <th></th>\n",
       "      <th>WEEK_END_DATE</th>\n",
       "      <th>STORE_ID</th>\n",
       "      <th>UPC</th>\n",
       "      <th>UNITS</th>\n",
       "      <th>VISITS</th>\n",
       "      <th>HHS</th>\n",
       "      <th>SPEND</th>\n",
       "      <th>PRICE</th>\n",
       "      <th>BASE_PRICE</th>\n",
       "      <th>FEATURE</th>\n",
       "      <th>DISPLAY</th>\n",
       "      <th>TPR_ONLY</th>\n",
       "      <th>DESCRIPTION</th>\n",
       "      <th>MANUFACTURER</th>\n",
       "      <th>CATEGORY</th>\n",
       "      <th>SUB_CATEGORY</th>\n",
       "      <th>PRODUCT_SIZE</th>\n",
       "      <th>STORE_NAME</th>\n",
       "      <th>ADDRESS_CITY_NAME</th>\n",
       "      <th>ADDRESS_STATE_PROV_CODE</th>\n",
       "      <th>MSA_CODE</th>\n",
       "      <th>SEG_VALUE_NAME</th>\n",
       "      <th>PARKING_SPACE_QTY</th>\n",
       "      <th>SALES_AREA_SIZE_NUM</th>\n",
       "      <th>AVG_WEEKLY_BASKETS</th>\n",
       "      <th>discount</th>\n",
       "    </tr>\n",
       "  </thead>\n",
       "  <tbody>\n",
       "    <tr>\n",
       "      <th>333620</th>\n",
       "      <td>10/19/2011</td>\n",
       "      <td>19521</td>\n",
       "      <td>3700019521</td>\n",
       "      <td>5</td>\n",
       "      <td>4</td>\n",
       "      <td>4</td>\n",
       "      <td>12.45</td>\n",
       "      <td>2.49</td>\n",
       "      <td>3.46</td>\n",
       "      <td>1</td>\n",
       "      <td>1</td>\n",
       "      <td>0</td>\n",
       "      <td>CREST PH WHTG CLN MINT TP</td>\n",
       "      <td>P &amp; G</td>\n",
       "      <td>ORAL HYGIENE PRODUCTS</td>\n",
       "      <td>MOUTHWASH/RINSES AND SPRAYS</td>\n",
       "      <td>4.2 OZ</td>\n",
       "      <td>SOUTHLAKE</td>\n",
       "      <td>SOUTHLAKE</td>\n",
       "      <td>TX</td>\n",
       "      <td>19100</td>\n",
       "      <td>UPSCALE</td>\n",
       "      <td>NaN</td>\n",
       "      <td>47757</td>\n",
       "      <td>14051.60897</td>\n",
       "      <td>0.97</td>\n",
       "    </tr>\n",
       "    <tr>\n",
       "      <th>333621</th>\n",
       "      <td>11/2/2011</td>\n",
       "      <td>19521</td>\n",
       "      <td>3700019521</td>\n",
       "      <td>6</td>\n",
       "      <td>5</td>\n",
       "      <td>5</td>\n",
       "      <td>14.94</td>\n",
       "      <td>2.49</td>\n",
       "      <td>3.46</td>\n",
       "      <td>0</td>\n",
       "      <td>0</td>\n",
       "      <td>1</td>\n",
       "      <td>CREST PH WHTG CLN MINT TP</td>\n",
       "      <td>P &amp; G</td>\n",
       "      <td>ORAL HYGIENE PRODUCTS</td>\n",
       "      <td>MOUTHWASH/RINSES AND SPRAYS</td>\n",
       "      <td>4.2 OZ</td>\n",
       "      <td>SOUTHLAKE</td>\n",
       "      <td>SOUTHLAKE</td>\n",
       "      <td>TX</td>\n",
       "      <td>19100</td>\n",
       "      <td>UPSCALE</td>\n",
       "      <td>NaN</td>\n",
       "      <td>47757</td>\n",
       "      <td>14051.60897</td>\n",
       "      <td>0.97</td>\n",
       "    </tr>\n",
       "    <tr>\n",
       "      <th>333622</th>\n",
       "      <td>11/9/2011</td>\n",
       "      <td>19521</td>\n",
       "      <td>3700019521</td>\n",
       "      <td>14</td>\n",
       "      <td>2</td>\n",
       "      <td>1</td>\n",
       "      <td>34.86</td>\n",
       "      <td>2.49</td>\n",
       "      <td>3.46</td>\n",
       "      <td>0</td>\n",
       "      <td>0</td>\n",
       "      <td>1</td>\n",
       "      <td>CREST PH WHTG CLN MINT TP</td>\n",
       "      <td>P &amp; G</td>\n",
       "      <td>ORAL HYGIENE PRODUCTS</td>\n",
       "      <td>MOUTHWASH/RINSES AND SPRAYS</td>\n",
       "      <td>4.2 OZ</td>\n",
       "      <td>SOUTHLAKE</td>\n",
       "      <td>SOUTHLAKE</td>\n",
       "      <td>TX</td>\n",
       "      <td>19100</td>\n",
       "      <td>UPSCALE</td>\n",
       "      <td>NaN</td>\n",
       "      <td>47757</td>\n",
       "      <td>14051.60897</td>\n",
       "      <td>0.97</td>\n",
       "    </tr>\n",
       "    <tr>\n",
       "      <th>333623</th>\n",
       "      <td>11/16/2011</td>\n",
       "      <td>19521</td>\n",
       "      <td>3700019521</td>\n",
       "      <td>1</td>\n",
       "      <td>3</td>\n",
       "      <td>2</td>\n",
       "      <td>11.46</td>\n",
       "      <td>11.46</td>\n",
       "      <td>11.46</td>\n",
       "      <td>0</td>\n",
       "      <td>0</td>\n",
       "      <td>0</td>\n",
       "      <td>CREST PH WHTG CLN MINT TP</td>\n",
       "      <td>P &amp; G</td>\n",
       "      <td>ORAL HYGIENE PRODUCTS</td>\n",
       "      <td>MOUTHWASH/RINSES AND SPRAYS</td>\n",
       "      <td>4.2 OZ</td>\n",
       "      <td>SOUTHLAKE</td>\n",
       "      <td>SOUTHLAKE</td>\n",
       "      <td>TX</td>\n",
       "      <td>19100</td>\n",
       "      <td>UPSCALE</td>\n",
       "      <td>NaN</td>\n",
       "      <td>47757</td>\n",
       "      <td>14051.60897</td>\n",
       "      <td>0.00</td>\n",
       "    </tr>\n",
       "    <tr>\n",
       "      <th>333624</th>\n",
       "      <td>11/30/2011</td>\n",
       "      <td>19521</td>\n",
       "      <td>3700019521</td>\n",
       "      <td>1</td>\n",
       "      <td>1</td>\n",
       "      <td>1</td>\n",
       "      <td>2.99</td>\n",
       "      <td>2.99</td>\n",
       "      <td>11.46</td>\n",
       "      <td>0</td>\n",
       "      <td>0</td>\n",
       "      <td>1</td>\n",
       "      <td>CREST PH WHTG CLN MINT TP</td>\n",
       "      <td>P &amp; G</td>\n",
       "      <td>ORAL HYGIENE PRODUCTS</td>\n",
       "      <td>MOUTHWASH/RINSES AND SPRAYS</td>\n",
       "      <td>4.2 OZ</td>\n",
       "      <td>SOUTHLAKE</td>\n",
       "      <td>SOUTHLAKE</td>\n",
       "      <td>TX</td>\n",
       "      <td>19100</td>\n",
       "      <td>UPSCALE</td>\n",
       "      <td>NaN</td>\n",
       "      <td>47757</td>\n",
       "      <td>14051.60897</td>\n",
       "      <td>8.47</td>\n",
       "    </tr>\n",
       "    <tr>\n",
       "      <th>333625</th>\n",
       "      <td>12/7/2011</td>\n",
       "      <td>19521</td>\n",
       "      <td>3700019521</td>\n",
       "      <td>2</td>\n",
       "      <td>2</td>\n",
       "      <td>2</td>\n",
       "      <td>6.92</td>\n",
       "      <td>3.46</td>\n",
       "      <td>11.46</td>\n",
       "      <td>0</td>\n",
       "      <td>0</td>\n",
       "      <td>1</td>\n",
       "      <td>CREST PH WHTG CLN MINT TP</td>\n",
       "      <td>P &amp; G</td>\n",
       "      <td>ORAL HYGIENE PRODUCTS</td>\n",
       "      <td>MOUTHWASH/RINSES AND SPRAYS</td>\n",
       "      <td>4.2 OZ</td>\n",
       "      <td>SOUTHLAKE</td>\n",
       "      <td>SOUTHLAKE</td>\n",
       "      <td>TX</td>\n",
       "      <td>19100</td>\n",
       "      <td>UPSCALE</td>\n",
       "      <td>NaN</td>\n",
       "      <td>47757</td>\n",
       "      <td>14051.60897</td>\n",
       "      <td>8.00</td>\n",
       "    </tr>\n",
       "    <tr>\n",
       "      <th>333626</th>\n",
       "      <td>12/14/2011</td>\n",
       "      <td>19521</td>\n",
       "      <td>3700019521</td>\n",
       "      <td>4</td>\n",
       "      <td>4</td>\n",
       "      <td>4</td>\n",
       "      <td>13.84</td>\n",
       "      <td>3.46</td>\n",
       "      <td>11.46</td>\n",
       "      <td>0</td>\n",
       "      <td>0</td>\n",
       "      <td>1</td>\n",
       "      <td>CREST PH WHTG CLN MINT TP</td>\n",
       "      <td>P &amp; G</td>\n",
       "      <td>ORAL HYGIENE PRODUCTS</td>\n",
       "      <td>MOUTHWASH/RINSES AND SPRAYS</td>\n",
       "      <td>4.2 OZ</td>\n",
       "      <td>SOUTHLAKE</td>\n",
       "      <td>SOUTHLAKE</td>\n",
       "      <td>TX</td>\n",
       "      <td>19100</td>\n",
       "      <td>UPSCALE</td>\n",
       "      <td>NaN</td>\n",
       "      <td>47757</td>\n",
       "      <td>14051.60897</td>\n",
       "      <td>8.00</td>\n",
       "    </tr>\n",
       "    <tr>\n",
       "      <th>333627</th>\n",
       "      <td>12/21/2011</td>\n",
       "      <td>19521</td>\n",
       "      <td>3700019521</td>\n",
       "      <td>1</td>\n",
       "      <td>1</td>\n",
       "      <td>1</td>\n",
       "      <td>3.46</td>\n",
       "      <td>3.46</td>\n",
       "      <td>11.46</td>\n",
       "      <td>0</td>\n",
       "      <td>0</td>\n",
       "      <td>1</td>\n",
       "      <td>CREST PH WHTG CLN MINT TP</td>\n",
       "      <td>P &amp; G</td>\n",
       "      <td>ORAL HYGIENE PRODUCTS</td>\n",
       "      <td>MOUTHWASH/RINSES AND SPRAYS</td>\n",
       "      <td>4.2 OZ</td>\n",
       "      <td>SOUTHLAKE</td>\n",
       "      <td>SOUTHLAKE</td>\n",
       "      <td>TX</td>\n",
       "      <td>19100</td>\n",
       "      <td>UPSCALE</td>\n",
       "      <td>NaN</td>\n",
       "      <td>47757</td>\n",
       "      <td>14051.60897</td>\n",
       "      <td>8.00</td>\n",
       "    </tr>\n",
       "    <tr>\n",
       "      <th>333628</th>\n",
       "      <td>12/28/2011</td>\n",
       "      <td>19521</td>\n",
       "      <td>3700019521</td>\n",
       "      <td>1</td>\n",
       "      <td>1</td>\n",
       "      <td>1</td>\n",
       "      <td>3.46</td>\n",
       "      <td>3.46</td>\n",
       "      <td>11.46</td>\n",
       "      <td>0</td>\n",
       "      <td>0</td>\n",
       "      <td>1</td>\n",
       "      <td>CREST PH WHTG CLN MINT TP</td>\n",
       "      <td>P &amp; G</td>\n",
       "      <td>ORAL HYGIENE PRODUCTS</td>\n",
       "      <td>MOUTHWASH/RINSES AND SPRAYS</td>\n",
       "      <td>4.2 OZ</td>\n",
       "      <td>SOUTHLAKE</td>\n",
       "      <td>SOUTHLAKE</td>\n",
       "      <td>TX</td>\n",
       "      <td>19100</td>\n",
       "      <td>UPSCALE</td>\n",
       "      <td>NaN</td>\n",
       "      <td>47757</td>\n",
       "      <td>14051.60897</td>\n",
       "      <td>8.00</td>\n",
       "    </tr>\n",
       "    <tr>\n",
       "      <th>333629</th>\n",
       "      <td>1/4/2012</td>\n",
       "      <td>19521</td>\n",
       "      <td>3700019521</td>\n",
       "      <td>1</td>\n",
       "      <td>1</td>\n",
       "      <td>1</td>\n",
       "      <td>2.69</td>\n",
       "      <td>2.69</td>\n",
       "      <td>11.46</td>\n",
       "      <td>0</td>\n",
       "      <td>0</td>\n",
       "      <td>1</td>\n",
       "      <td>CREST PH WHTG CLN MINT TP</td>\n",
       "      <td>P &amp; G</td>\n",
       "      <td>ORAL HYGIENE PRODUCTS</td>\n",
       "      <td>MOUTHWASH/RINSES AND SPRAYS</td>\n",
       "      <td>4.2 OZ</td>\n",
       "      <td>SOUTHLAKE</td>\n",
       "      <td>SOUTHLAKE</td>\n",
       "      <td>TX</td>\n",
       "      <td>19100</td>\n",
       "      <td>UPSCALE</td>\n",
       "      <td>NaN</td>\n",
       "      <td>47757</td>\n",
       "      <td>14051.60897</td>\n",
       "      <td>8.77</td>\n",
       "    </tr>\n",
       "  </tbody>\n",
       "</table>\n",
       "</div>"
      ],
      "text/plain": [
       "       WEEK_END_DATE  STORE_ID         UPC  UNITS  VISITS  HHS  SPEND  PRICE  \\\n",
       "333620    10/19/2011     19521  3700019521      5       4    4  12.45   2.49   \n",
       "333621     11/2/2011     19521  3700019521      6       5    5  14.94   2.49   \n",
       "333622     11/9/2011     19521  3700019521     14       2    1  34.86   2.49   \n",
       "333623    11/16/2011     19521  3700019521      1       3    2  11.46  11.46   \n",
       "333624    11/30/2011     19521  3700019521      1       1    1   2.99   2.99   \n",
       "333625     12/7/2011     19521  3700019521      2       2    2   6.92   3.46   \n",
       "333626    12/14/2011     19521  3700019521      4       4    4  13.84   3.46   \n",
       "333627    12/21/2011     19521  3700019521      1       1    1   3.46   3.46   \n",
       "333628    12/28/2011     19521  3700019521      1       1    1   3.46   3.46   \n",
       "333629      1/4/2012     19521  3700019521      1       1    1   2.69   2.69   \n",
       "\n",
       "        BASE_PRICE  FEATURE  DISPLAY  TPR_ONLY                DESCRIPTION  \\\n",
       "333620        3.46        1        1         0  CREST PH WHTG CLN MINT TP   \n",
       "333621        3.46        0        0         1  CREST PH WHTG CLN MINT TP   \n",
       "333622        3.46        0        0         1  CREST PH WHTG CLN MINT TP   \n",
       "333623       11.46        0        0         0  CREST PH WHTG CLN MINT TP   \n",
       "333624       11.46        0        0         1  CREST PH WHTG CLN MINT TP   \n",
       "333625       11.46        0        0         1  CREST PH WHTG CLN MINT TP   \n",
       "333626       11.46        0        0         1  CREST PH WHTG CLN MINT TP   \n",
       "333627       11.46        0        0         1  CREST PH WHTG CLN MINT TP   \n",
       "333628       11.46        0        0         1  CREST PH WHTG CLN MINT TP   \n",
       "333629       11.46        0        0         1  CREST PH WHTG CLN MINT TP   \n",
       "\n",
       "       MANUFACTURER               CATEGORY                 SUB_CATEGORY  \\\n",
       "333620        P & G  ORAL HYGIENE PRODUCTS  MOUTHWASH/RINSES AND SPRAYS   \n",
       "333621        P & G  ORAL HYGIENE PRODUCTS  MOUTHWASH/RINSES AND SPRAYS   \n",
       "333622        P & G  ORAL HYGIENE PRODUCTS  MOUTHWASH/RINSES AND SPRAYS   \n",
       "333623        P & G  ORAL HYGIENE PRODUCTS  MOUTHWASH/RINSES AND SPRAYS   \n",
       "333624        P & G  ORAL HYGIENE PRODUCTS  MOUTHWASH/RINSES AND SPRAYS   \n",
       "333625        P & G  ORAL HYGIENE PRODUCTS  MOUTHWASH/RINSES AND SPRAYS   \n",
       "333626        P & G  ORAL HYGIENE PRODUCTS  MOUTHWASH/RINSES AND SPRAYS   \n",
       "333627        P & G  ORAL HYGIENE PRODUCTS  MOUTHWASH/RINSES AND SPRAYS   \n",
       "333628        P & G  ORAL HYGIENE PRODUCTS  MOUTHWASH/RINSES AND SPRAYS   \n",
       "333629        P & G  ORAL HYGIENE PRODUCTS  MOUTHWASH/RINSES AND SPRAYS   \n",
       "\n",
       "       PRODUCT_SIZE STORE_NAME ADDRESS_CITY_NAME ADDRESS_STATE_PROV_CODE  \\\n",
       "333620       4.2 OZ  SOUTHLAKE         SOUTHLAKE                      TX   \n",
       "333621       4.2 OZ  SOUTHLAKE         SOUTHLAKE                      TX   \n",
       "333622       4.2 OZ  SOUTHLAKE         SOUTHLAKE                      TX   \n",
       "333623       4.2 OZ  SOUTHLAKE         SOUTHLAKE                      TX   \n",
       "333624       4.2 OZ  SOUTHLAKE         SOUTHLAKE                      TX   \n",
       "333625       4.2 OZ  SOUTHLAKE         SOUTHLAKE                      TX   \n",
       "333626       4.2 OZ  SOUTHLAKE         SOUTHLAKE                      TX   \n",
       "333627       4.2 OZ  SOUTHLAKE         SOUTHLAKE                      TX   \n",
       "333628       4.2 OZ  SOUTHLAKE         SOUTHLAKE                      TX   \n",
       "333629       4.2 OZ  SOUTHLAKE         SOUTHLAKE                      TX   \n",
       "\n",
       "        MSA_CODE SEG_VALUE_NAME  PARKING_SPACE_QTY  SALES_AREA_SIZE_NUM  \\\n",
       "333620     19100        UPSCALE                NaN                47757   \n",
       "333621     19100        UPSCALE                NaN                47757   \n",
       "333622     19100        UPSCALE                NaN                47757   \n",
       "333623     19100        UPSCALE                NaN                47757   \n",
       "333624     19100        UPSCALE                NaN                47757   \n",
       "333625     19100        UPSCALE                NaN                47757   \n",
       "333626     19100        UPSCALE                NaN                47757   \n",
       "333627     19100        UPSCALE                NaN                47757   \n",
       "333628     19100        UPSCALE                NaN                47757   \n",
       "333629     19100        UPSCALE                NaN                47757   \n",
       "\n",
       "        AVG_WEEKLY_BASKETS  discount  \n",
       "333620         14051.60897      0.97  \n",
       "333621         14051.60897      0.97  \n",
       "333622         14051.60897      0.97  \n",
       "333623         14051.60897      0.00  \n",
       "333624         14051.60897      8.47  \n",
       "333625         14051.60897      8.00  \n",
       "333626         14051.60897      8.00  \n",
       "333627         14051.60897      8.00  \n",
       "333628         14051.60897      8.00  \n",
       "333629         14051.60897      8.77  "
      ]
     },
     "execution_count": 32,
     "metadata": {},
     "output_type": "execute_result"
    }
   ],
   "source": [
    "dataset[333620:333630]  # We visualized the particular rows for maximum base price"
   ]
  },
  {
   "cell_type": "code",
   "execution_count": 33,
   "metadata": {},
   "outputs": [],
   "source": [
    "dataset.drop([\"PARKING_SPACE_QTY\"], axis = 1, inplace = True) # Data Cleaning"
   ]
  },
  {
   "cell_type": "code",
   "execution_count": 34,
   "metadata": {},
   "outputs": [],
   "source": [
    "dataset.to_csv(\"br.csv\", index = False)"
   ]
  },
  {
   "cell_type": "code",
   "execution_count": 36,
   "metadata": {},
   "outputs": [
    {
     "data": {
      "text/plain": [
       "(538643, 25)"
      ]
     },
     "execution_count": 36,
     "metadata": {},
     "output_type": "execute_result"
    }
   ],
   "source": [
    "dataset.shape"
   ]
  },
  {
   "cell_type": "code",
   "execution_count": 37,
   "metadata": {},
   "outputs": [],
   "source": [
    "dataset.drop([\"STORE_ID\"], axis = 1, inplace = True)"
   ]
  },
  {
   "cell_type": "code",
   "execution_count": 38,
   "metadata": {},
   "outputs": [],
   "source": [
    "dataset.to_csv(\"br.csv\", index = False)"
   ]
  },
  {
   "cell_type": "code",
   "execution_count": 39,
   "metadata": {},
   "outputs": [
    {
     "data": {
      "text/plain": [
       "(538643, 24)"
      ]
     },
     "execution_count": 39,
     "metadata": {},
     "output_type": "execute_result"
    }
   ],
   "source": [
    "dataset.shape"
   ]
  },
  {
   "cell_type": "code",
   "execution_count": 40,
   "metadata": {},
   "outputs": [],
   "source": [
    "dataset.drop([\"UPC\"], axis = 1, inplace = True)"
   ]
  },
  {
   "cell_type": "code",
   "execution_count": 41,
   "metadata": {},
   "outputs": [],
   "source": [
    "dataset.to_csv(\"br.csv\", index = False)"
   ]
  },
  {
   "cell_type": "code",
   "execution_count": 42,
   "metadata": {},
   "outputs": [
    {
     "data": {
      "text/plain": [
       "(538643, 23)"
      ]
     },
     "execution_count": 42,
     "metadata": {},
     "output_type": "execute_result"
    }
   ],
   "source": [
    "dataset.shape"
   ]
  },
  {
   "cell_type": "code",
   "execution_count": 43,
   "metadata": {},
   "outputs": [],
   "source": [
    "dataset.drop([\"MSA_CODE\"], axis = 1, inplace = True)"
   ]
  },
  {
   "cell_type": "code",
   "execution_count": 44,
   "metadata": {},
   "outputs": [],
   "source": [
    "dataset.to_csv(\"br.csv\", index = False)"
   ]
  },
  {
   "cell_type": "code",
   "execution_count": 45,
   "metadata": {},
   "outputs": [
    {
     "data": {
      "text/plain": [
       "WEEK_END_DATE                0\n",
       "UNITS                        0\n",
       "VISITS                       0\n",
       "HHS                          0\n",
       "SPEND                        0\n",
       "PRICE                       23\n",
       "BASE_PRICE                 185\n",
       "FEATURE                      0\n",
       "DISPLAY                      0\n",
       "TPR_ONLY                     0\n",
       "DESCRIPTION                  0\n",
       "MANUFACTURER                 0\n",
       "CATEGORY                     0\n",
       "SUB_CATEGORY                 0\n",
       "PRODUCT_SIZE                 0\n",
       "STORE_NAME                   0\n",
       "ADDRESS_CITY_NAME            0\n",
       "ADDRESS_STATE_PROV_CODE      0\n",
       "SEG_VALUE_NAME               0\n",
       "SALES_AREA_SIZE_NUM          0\n",
       "AVG_WEEKLY_BASKETS           0\n",
       "discount                   208\n",
       "dtype: int64"
      ]
     },
     "execution_count": 45,
     "metadata": {},
     "output_type": "execute_result"
    }
   ],
   "source": [
    "dataset.isnull().sum() # number of missing values (missing value analysis)"
   ]
  },
  {
   "cell_type": "code",
   "execution_count": 46,
   "metadata": {},
   "outputs": [],
   "source": [
    "dataset['discount'].fillna(dataset['discount'].mean(), inplace = True) # fill missing values with mean values"
   ]
  },
  {
   "cell_type": "code",
   "execution_count": 47,
   "metadata": {},
   "outputs": [
    {
     "data": {
      "text/plain": [
       "WEEK_END_DATE                0\n",
       "UNITS                        0\n",
       "VISITS                       0\n",
       "HHS                          0\n",
       "SPEND                        0\n",
       "PRICE                       23\n",
       "BASE_PRICE                 185\n",
       "FEATURE                      0\n",
       "DISPLAY                      0\n",
       "TPR_ONLY                     0\n",
       "DESCRIPTION                  0\n",
       "MANUFACTURER                 0\n",
       "CATEGORY                     0\n",
       "SUB_CATEGORY                 0\n",
       "PRODUCT_SIZE                 0\n",
       "STORE_NAME                   0\n",
       "ADDRESS_CITY_NAME            0\n",
       "ADDRESS_STATE_PROV_CODE      0\n",
       "SEG_VALUE_NAME               0\n",
       "SALES_AREA_SIZE_NUM          0\n",
       "AVG_WEEKLY_BASKETS           0\n",
       "discount                     0\n",
       "dtype: int64"
      ]
     },
     "execution_count": 47,
     "metadata": {},
     "output_type": "execute_result"
    }
   ],
   "source": [
    "dataset.isnull().sum()"
   ]
  },
  {
   "cell_type": "code",
   "execution_count": 48,
   "metadata": {},
   "outputs": [],
   "source": [
    "dataset['PRICE'].fillna(dataset['PRICE'].median(), inplace = True)"
   ]
  },
  {
   "cell_type": "code",
   "execution_count": 49,
   "metadata": {},
   "outputs": [
    {
     "data": {
      "text/plain": [
       "WEEK_END_DATE                0\n",
       "UNITS                        0\n",
       "VISITS                       0\n",
       "HHS                          0\n",
       "SPEND                        0\n",
       "PRICE                        0\n",
       "BASE_PRICE                 185\n",
       "FEATURE                      0\n",
       "DISPLAY                      0\n",
       "TPR_ONLY                     0\n",
       "DESCRIPTION                  0\n",
       "MANUFACTURER                 0\n",
       "CATEGORY                     0\n",
       "SUB_CATEGORY                 0\n",
       "PRODUCT_SIZE                 0\n",
       "STORE_NAME                   0\n",
       "ADDRESS_CITY_NAME            0\n",
       "ADDRESS_STATE_PROV_CODE      0\n",
       "SEG_VALUE_NAME               0\n",
       "SALES_AREA_SIZE_NUM          0\n",
       "AVG_WEEKLY_BASKETS           0\n",
       "discount                     0\n",
       "dtype: int64"
      ]
     },
     "execution_count": 49,
     "metadata": {},
     "output_type": "execute_result"
    }
   ],
   "source": [
    "dataset.isnull().sum()"
   ]
  },
  {
   "cell_type": "code",
   "execution_count": 50,
   "metadata": {},
   "outputs": [],
   "source": [
    "dataset['BASE_PRICE'].fillna(dataset['BASE_PRICE'].mean(), inplace = True)"
   ]
  },
  {
   "cell_type": "code",
   "execution_count": 51,
   "metadata": {},
   "outputs": [
    {
     "data": {
      "text/plain": [
       "WEEK_END_DATE              0\n",
       "UNITS                      0\n",
       "VISITS                     0\n",
       "HHS                        0\n",
       "SPEND                      0\n",
       "PRICE                      0\n",
       "BASE_PRICE                 0\n",
       "FEATURE                    0\n",
       "DISPLAY                    0\n",
       "TPR_ONLY                   0\n",
       "DESCRIPTION                0\n",
       "MANUFACTURER               0\n",
       "CATEGORY                   0\n",
       "SUB_CATEGORY               0\n",
       "PRODUCT_SIZE               0\n",
       "STORE_NAME                 0\n",
       "ADDRESS_CITY_NAME          0\n",
       "ADDRESS_STATE_PROV_CODE    0\n",
       "SEG_VALUE_NAME             0\n",
       "SALES_AREA_SIZE_NUM        0\n",
       "AVG_WEEKLY_BASKETS         0\n",
       "discount                   0\n",
       "dtype: int64"
      ]
     },
     "execution_count": 51,
     "metadata": {},
     "output_type": "execute_result"
    }
   ],
   "source": [
    "dataset.isnull().sum()"
   ]
  },
  {
   "cell_type": "code",
   "execution_count": 52,
   "metadata": {},
   "outputs": [],
   "source": [
    "dataset['discount'] = round(dataset['discount'],2) #data transformation"
   ]
  },
  {
   "cell_type": "code",
   "execution_count": 53,
   "metadata": {},
   "outputs": [],
   "source": [
    "dataset.to_csv(\"br.csv\", index = False)"
   ]
  },
  {
   "cell_type": "code",
   "execution_count": 54,
   "metadata": {},
   "outputs": [],
   "source": [
    "dataset['AVG_WEEKLY_BASKETS'] = round(dataset['AVG_WEEKLY_BASKETS'],2)"
   ]
  },
  {
   "cell_type": "code",
   "execution_count": 55,
   "metadata": {},
   "outputs": [],
   "source": [
    "dataset.to_csv(\"br.csv\", index = False)"
   ]
  },
  {
   "cell_type": "code",
   "execution_count": 56,
   "metadata": {},
   "outputs": [
    {
     "data": {
      "text/plain": [
       "0         12706.53\n",
       "1         12706.53\n",
       "2         12706.53\n",
       "3         12706.53\n",
       "4         12706.53\n",
       "            ...   \n",
       "538638    25916.53\n",
       "538639    25916.53\n",
       "538640    25916.53\n",
       "538641    25916.53\n",
       "538642    25916.53\n",
       "Name: AVG_WEEKLY_BASKETS, Length: 538643, dtype: float64"
      ]
     },
     "execution_count": 56,
     "metadata": {},
     "output_type": "execute_result"
    }
   ],
   "source": [
    "dataset['AVG_WEEKLY_BASKETS']"
   ]
  },
  {
   "cell_type": "code",
   "execution_count": 57,
   "metadata": {},
   "outputs": [],
   "source": [
    "dataset.set_index('WEEK_END_DATE', inplace = True)"
   ]
  },
  {
   "cell_type": "code",
   "execution_count": 58,
   "metadata": {},
   "outputs": [
    {
     "data": {
      "image/png": "[encoded data removed]",
      "text/plain": [
       "<Figure size 2000x1000 with 1 Axes>"
      ]
     },
     "metadata": {},
     "output_type": "display_data"
    }
   ],
   "source": [
    "dataset['discount'].plot(figsize = (20, 10)) # When there is no discounts the prices are at the highest level (between 2010-07-21 and 2011-07-27)\n",
    "plt.show()"
   ]
  },
  {
   "cell_type": "code",
   "execution_count": 59,
   "metadata": {},
   "outputs": [
    {
     "data": {
      "image/png": "[encoded data removed]",
      "text/plain": [
       "<Figure size 2000x1000 with 1 Axes>"
      ]
     },
     "metadata": {},
     "output_type": "display_data"
    }
   ],
   "source": [
    "dataset['AVG_WEEKLY_BASKETS'].plot(figsize = (20, 10)) # The average weekly baskets are at the highest level on 2009-01-14, this may be a festive season\n",
    "plt.show()"
   ]
  },
  {
   "cell_type": "code",
   "execution_count": 60,
   "metadata": {},
   "outputs": [
    {
     "data": {
      "text/html": [
       "<div>\n",
       "<style scoped>\n",
       "    .dataframe tbody tr th:only-of-type {\n",
       "        vertical-align: middle;\n",
       "    }\n",
       "\n",
       "    .dataframe tbody tr th {\n",
       "        vertical-align: top;\n",
       "    }\n",
       "\n",
       "    .dataframe thead th {\n",
       "        text-align: right;\n",
       "    }\n",
       "</style>\n",
       "<table border=\"1\" class=\"dataframe\">\n",
       "  <thead>\n",
       "    <tr style=\"text-align: right;\">\n",
       "      <th></th>\n",
       "      <th>UNITS</th>\n",
       "      <th>VISITS</th>\n",
       "      <th>HHS</th>\n",
       "      <th>SPEND</th>\n",
       "      <th>PRICE</th>\n",
       "      <th>BASE_PRICE</th>\n",
       "      <th>FEATURE</th>\n",
       "      <th>DISPLAY</th>\n",
       "      <th>TPR_ONLY</th>\n",
       "      <th>SALES_AREA_SIZE_NUM</th>\n",
       "      <th>discount</th>\n",
       "    </tr>\n",
       "    <tr>\n",
       "      <th>WEEK_END_DATE</th>\n",
       "      <th></th>\n",
       "      <th></th>\n",
       "      <th></th>\n",
       "      <th></th>\n",
       "      <th></th>\n",
       "      <th></th>\n",
       "      <th></th>\n",
       "      <th></th>\n",
       "      <th></th>\n",
       "      <th></th>\n",
       "      <th></th>\n",
       "    </tr>\n",
       "  </thead>\n",
       "  <tbody>\n",
       "    <tr>\n",
       "      <th>1/14/2009</th>\n",
       "      <td>13</td>\n",
       "      <td>13</td>\n",
       "      <td>13</td>\n",
       "      <td>18.07</td>\n",
       "      <td>1.39</td>\n",
       "      <td>1.57</td>\n",
       "      <td>0</td>\n",
       "      <td>0</td>\n",
       "      <td>1</td>\n",
       "      <td>24721</td>\n",
       "      <td>0.18</td>\n",
       "    </tr>\n",
       "    <tr>\n",
       "      <th>1/21/2009</th>\n",
       "      <td>24</td>\n",
       "      <td>23</td>\n",
       "      <td>23</td>\n",
       "      <td>33.36</td>\n",
       "      <td>1.39</td>\n",
       "      <td>1.57</td>\n",
       "      <td>0</td>\n",
       "      <td>0</td>\n",
       "      <td>1</td>\n",
       "      <td>24721</td>\n",
       "      <td>0.18</td>\n",
       "    </tr>\n",
       "    <tr>\n",
       "      <th>1/28/2009</th>\n",
       "      <td>7</td>\n",
       "      <td>7</td>\n",
       "      <td>7</td>\n",
       "      <td>9.52</td>\n",
       "      <td>1.36</td>\n",
       "      <td>1.36</td>\n",
       "      <td>0</td>\n",
       "      <td>0</td>\n",
       "      <td>0</td>\n",
       "      <td>24721</td>\n",
       "      <td>0.00</td>\n",
       "    </tr>\n",
       "    <tr>\n",
       "      <th>2/4/2009</th>\n",
       "      <td>12</td>\n",
       "      <td>12</td>\n",
       "      <td>12</td>\n",
       "      <td>16.56</td>\n",
       "      <td>1.38</td>\n",
       "      <td>1.38</td>\n",
       "      <td>0</td>\n",
       "      <td>0</td>\n",
       "      <td>0</td>\n",
       "      <td>24721</td>\n",
       "      <td>0.00</td>\n",
       "    </tr>\n",
       "    <tr>\n",
       "      <th>2/11/2009</th>\n",
       "      <td>16</td>\n",
       "      <td>14</td>\n",
       "      <td>14</td>\n",
       "      <td>24.00</td>\n",
       "      <td>1.50</td>\n",
       "      <td>1.50</td>\n",
       "      <td>0</td>\n",
       "      <td>0</td>\n",
       "      <td>0</td>\n",
       "      <td>24721</td>\n",
       "      <td>0.00</td>\n",
       "    </tr>\n",
       "  </tbody>\n",
       "</table>\n",
       "</div>"
      ],
      "text/plain": [
       "               UNITS  VISITS  HHS  SPEND  PRICE  BASE_PRICE  FEATURE  DISPLAY  \\\n",
       "WEEK_END_DATE                                                                   \n",
       "1/14/2009         13      13   13  18.07   1.39        1.57        0        0   \n",
       "1/21/2009         24      23   23  33.36   1.39        1.57        0        0   \n",
       "1/28/2009          7       7    7   9.52   1.36        1.36        0        0   \n",
       "2/4/2009          12      12   12  16.56   1.38        1.38        0        0   \n",
       "2/11/2009         16      14   14  24.00   1.50        1.50        0        0   \n",
       "\n",
       "               TPR_ONLY  SALES_AREA_SIZE_NUM  discount  \n",
       "WEEK_END_DATE                                           \n",
       "1/14/2009             1                24721      0.18  \n",
       "1/21/2009             1                24721      0.18  \n",
       "1/28/2009             0                24721      0.00  \n",
       "2/4/2009              0                24721      0.00  \n",
       "2/11/2009             0                24721      0.00  "
      ]
     },
     "execution_count": 60,
     "metadata": {},
     "output_type": "execute_result"
    }
   ],
   "source": [
    "X = dataset.drop(['DESCRIPTION','MANUFACTURER','CATEGORY','SUB_CATEGORY','PRODUCT_SIZE','STORE_NAME','ADDRESS_CITY_NAME', 'ADDRESS_STATE_PROV_CODE',\n",
    "'SEG_VALUE_NAME','AVG_WEEKLY_BASKETS'], axis=1)\n",
    "X.head()"
   ]
  },
  {
   "cell_type": "code",
   "execution_count": 61,
   "metadata": {},
   "outputs": [
    {
     "data": {
      "text/plain": [
       "WEEK_END_DATE\n",
       "1/14/2009    12706.53\n",
       "1/21/2009    12706.53\n",
       "1/28/2009    12706.53\n",
       "2/4/2009     12706.53\n",
       "2/11/2009    12706.53\n",
       "Name: AVG_WEEKLY_BASKETS, dtype: float64"
      ]
     },
     "execution_count": 61,
     "metadata": {},
     "output_type": "execute_result"
    }
   ],
   "source": [
    "y = dataset['AVG_WEEKLY_BASKETS']\n",
    "y.head()"
   ]
  },
  {
   "cell_type": "code",
   "execution_count": 62,
   "metadata": {},
   "outputs": [
    {
     "data": {
      "text/plain": [
       "array([[7.22222222e-03, 8.96191187e-03, 9.33852140e-03, ...,\n",
       "        1.00000000e+00, 1.83984999e-01, 3.31517510e-01],\n",
       "       [1.33333333e-02, 1.64301718e-02, 1.71206226e-02, ...,\n",
       "        1.00000000e+00, 1.83984999e-01, 3.31517510e-01],\n",
       "       [3.88888889e-03, 4.48095594e-03, 4.66926070e-03, ...,\n",
       "        0.00000000e+00, 1.83984999e-01, 3.17509728e-01],\n",
       "       ...,\n",
       "       [2.22222222e-03, 2.24047797e-03, 2.33463035e-03, ...,\n",
       "        0.00000000e+00, 5.82854653e-01, 3.17509728e-01],\n",
       "       [1.11111111e-03, 7.46825990e-04, 7.78210117e-04, ...,\n",
       "        0.00000000e+00, 5.82854653e-01, 3.17509728e-01],\n",
       "       [5.55555556e-04, 0.00000000e+00, 0.00000000e+00, ...,\n",
       "        0.00000000e+00, 5.82854653e-01, 3.17509728e-01]])"
      ]
     },
     "execution_count": 62,
     "metadata": {},
     "output_type": "execute_result"
    }
   ],
   "source": [
    "from sklearn.preprocessing import MinMaxScaler\n",
    "\n",
    "scaler = MinMaxScaler()\n",
    "scaler.fit_transform(X)\n",
    "scaler.transform(X)"
   ]
  },
  {
   "cell_type": "code",
   "execution_count": 63,
   "metadata": {},
   "outputs": [
    {
     "data": {
      "text/plain": [
       "((430914, 11), (430914,), (107729, 11), (107729,))"
      ]
     },
     "execution_count": 63,
     "metadata": {},
     "output_type": "execute_result"
    }
   ],
   "source": [
    "from sklearn.model_selection import train_test_split\n",
    "X_train, X_test, y_train, y_test = train_test_split(X, y, test_size=0.2, random_state=101) # splitting training and testing set\n",
    "X_train.shape, y_train.shape, X_test.shape, y_test.shape"
   ]
  },
  {
   "cell_type": "code",
   "execution_count": 64,
   "metadata": {},
   "outputs": [],
   "source": [
    "nu = ['int16', 'int32','int64', 'float16', 'float32', 'float64']    # selecting only numerical features from the dataset\n",
    "nu_features = list(dataset.select_dtypes(include=nu).columns)"
   ]
  },
  {
   "cell_type": "code",
   "execution_count": 65,
   "metadata": {},
   "outputs": [],
   "source": [
    "outlier = dataset[nu_features]"
   ]
  },
  {
   "cell_type": "code",
   "execution_count": 66,
   "metadata": {},
   "outputs": [
    {
     "data": {
      "text/plain": [
       "['AVG_WEEKLY_BASKETS',\n",
       " 'BASE_PRICE',\n",
       " 'DISPLAY',\n",
       " 'FEATURE',\n",
       " 'HHS',\n",
       " 'PRICE',\n",
       " 'SALES_AREA_SIZE_NUM',\n",
       " 'SPEND',\n",
       " 'TPR_ONLY',\n",
       " 'UNITS',\n",
       " 'VISITS',\n",
       " 'discount']"
      ]
     },
     "execution_count": 66,
     "metadata": {},
     "output_type": "execute_result"
    }
   ],
   "source": [
    "sorted(outlier)"
   ]
  },
  {
   "cell_type": "code",
   "execution_count": 67,
   "metadata": {},
   "outputs": [
    {
     "name": "stdout",
     "output_type": "stream",
     "text": [
      "UNITS                     20.000\n",
      "VISITS                    17.000\n",
      "HHS                       17.000\n",
      "SPEND                     54.360\n",
      "PRICE                      2.120\n",
      "BASE_PRICE                 2.090\n",
      "FEATURE                    0.000\n",
      "DISPLAY                    0.000\n",
      "TPR_ONLY                   0.000\n",
      "SALES_AREA_SIZE_NUM    11488.000\n",
      "AVG_WEEKLY_BASKETS     11238.810\n",
      "discount                   0.085\n",
      "dtype: float64\n"
     ]
    }
   ],
   "source": [
    "Q1 = dataset.quantile(0.25) \n",
    "Q3 = dataset.quantile(0.75)\n",
    "IQR = Q3 - Q1\n",
    "print(IQR)"
   ]
  },
  {
   "cell_type": "code",
   "execution_count": 68,
   "metadata": {},
   "outputs": [
    {
     "name": "stdout",
     "output_type": "stream",
     "text": [
      "(325260, 21)\n"
     ]
    }
   ],
   "source": [
    "outlier_out = dataset[~((dataset < (Q1 - 1.5 * IQR)) |(dataset > (Q3 + 1.5 * IQR))).any(axis = 1)]\n",
    "print(outlier_out.shape)"
   ]
  },
  {
   "cell_type": "code",
   "execution_count": 69,
   "metadata": {},
   "outputs": [],
   "source": [
    "outlier_out.to_csv(\"br.csv\", index = False)"
   ]
  },
  {
   "cell_type": "code",
   "execution_count": 70,
   "metadata": {},
   "outputs": [],
   "source": [
    "import warnings\n",
    "warnings.filterwarnings('ignore')\n",
    "from pandas import read_csv #  imports a CSV file to DataFrame format.\n",
    "dataset = read_csv('br.csv')# read csv"
   ]
  },
  {
   "cell_type": "code",
   "execution_count": 71,
   "metadata": {},
   "outputs": [
    {
     "name": "stdout",
     "output_type": "stream",
     "text": [
      "Number of categorical features: 9\n",
      "Number of numerical features: 12\n"
     ]
    }
   ],
   "source": [
    "categorical_list = []\n",
    "numerical_list = []\n",
    "for i in dataset.columns.tolist():\n",
    "    if dataset[i].dtype == 'object':\n",
    "        categorical_list.append(i)\n",
    "    else:\n",
    "        numerical_list.append(i)\n",
    "print('Number of categorical features:', str(len(categorical_list)))\n",
    "print('Number of numerical features:', str(len(numerical_list)))"
   ]
  },
  {
   "cell_type": "code",
   "execution_count": 72,
   "metadata": {},
   "outputs": [],
   "source": [
    "import numpy as np\n",
    "import pandas as pd\n",
    "import matplotlib.pyplot as plt\n",
    "import seaborn as sns\n",
    "from sklearn.model_selection import train_test_split\n",
    "from sklearn.feature_selection import f_regression\n",
    "from sklearn.feature_selection import SelectKBest, SelectPercentile"
   ]
  },
  {
   "cell_type": "code",
   "execution_count": 73,
   "metadata": {},
   "outputs": [
    {
     "data": {
      "text/plain": [
       "{'divide': 'raise', 'over': 'raise', 'under': 'raise', 'invalid': 'raise'}"
      ]
     },
     "execution_count": 73,
     "metadata": {},
     "output_type": "execute_result"
    }
   ],
   "source": [
    "import numpy as np\n",
    "np.seterr(divide = 'ignore', invalid = 'ignore')"
   ]
  },
  {
   "cell_type": "code",
   "execution_count": 74,
   "metadata": {},
   "outputs": [],
   "source": [
    "from pandas import read_csv #  imports a CSV file to DataFrame format\n",
    "dataset = read_csv('br.csv')# read csv"
   ]
  },
  {
   "cell_type": "code",
   "execution_count": 75,
   "metadata": {
    "scrolled": true
   },
   "outputs": [
    {
     "data": {
      "text/plain": [
       "array([[7.22222222e-03, 8.96191187e-03, 9.33852140e-03, ...,\n",
       "        1.00000000e+00, 1.83984999e-01, 3.31517510e-01],\n",
       "       [1.33333333e-02, 1.64301718e-02, 1.71206226e-02, ...,\n",
       "        1.00000000e+00, 1.83984999e-01, 3.31517510e-01],\n",
       "       [3.88888889e-03, 4.48095594e-03, 4.66926070e-03, ...,\n",
       "        0.00000000e+00, 1.83984999e-01, 3.17509728e-01],\n",
       "       ...,\n",
       "       [2.22222222e-03, 2.24047797e-03, 2.33463035e-03, ...,\n",
       "        0.00000000e+00, 5.82854653e-01, 3.17509728e-01],\n",
       "       [1.11111111e-03, 7.46825990e-04, 7.78210117e-04, ...,\n",
       "        0.00000000e+00, 5.82854653e-01, 3.17509728e-01],\n",
       "       [5.55555556e-04, 0.00000000e+00, 0.00000000e+00, ...,\n",
       "        0.00000000e+00, 5.82854653e-01, 3.17509728e-01]])"
      ]
     },
     "execution_count": 75,
     "metadata": {},
     "output_type": "execute_result"
    }
   ],
   "source": [
    "from sklearn.preprocessing import MinMaxScaler\n",
    "\n",
    "scaler = MinMaxScaler()\n",
    "scaler.fit_transform(X)\n",
    "scaler.transform(X)"
   ]
  },
  {
   "cell_type": "code",
   "execution_count": 76,
   "metadata": {},
   "outputs": [
    {
     "data": {
      "text/plain": [
       "((430914, 11), (430914,), (107729, 11), (107729,))"
      ]
     },
     "execution_count": 76,
     "metadata": {},
     "output_type": "execute_result"
    }
   ],
   "source": [
    "from sklearn.feature_selection import f_regression\n",
    "from sklearn.feature_selection import SelectKBest, SelectPercentile\n",
    "from sklearn.model_selection import train_test_split\n",
    "X_train, X_test, y_train, y_test = train_test_split(X, y, test_size=0.2, random_state=101) # splitting training and testing set\n",
    "X_train.shape, y_train.shape, X_test.shape, y_test.shape"
   ]
  },
  {
   "cell_type": "code",
   "execution_count": 77,
   "metadata": {},
   "outputs": [
    {
     "data": {
      "text/plain": [
       "Index(['UNITS', 'VISITS', 'HHS', 'SPEND', 'SALES_AREA_SIZE_NUM'], dtype='object')"
      ]
     },
     "execution_count": 77,
     "metadata": {},
     "output_type": "execute_result"
    }
   ],
   "source": [
    "# Select percentile Features SelectPercentile removes all but a user-specified highest scoring percentage of features\n",
    "k_percentile_features = SelectPercentile(f_regression, percentile=50).fit(X_train.fillna(0), y_train) # f_regression is score function for regression\n",
    "X.columns[k_percentile_features.get_support()]"
   ]
  },
  {
   "cell_type": "code",
   "execution_count": 78,
   "metadata": {},
   "outputs": [
    {
     "data": {
      "text/plain": [
       "array([ True,  True,  True,  True,  True,  True,  True,  True, False,\n",
       "        True,  True])"
      ]
     },
     "execution_count": 78,
     "metadata": {},
     "output_type": "execute_result"
    }
   ],
   "source": [
    "selector = SelectKBest(score_func=f_regression, k=10)\n",
    "new_data = selector.fit_transform(X_train, y_train)\n",
    "selector.get_support()"
   ]
  },
  {
   "cell_type": "code",
   "execution_count": 79,
   "metadata": {},
   "outputs": [
    {
     "data": {
      "text/plain": [
       "(538643, 5)"
      ]
     },
     "execution_count": 79,
     "metadata": {},
     "output_type": "execute_result"
    }
   ],
   "source": [
    "X_train = k_percentile_features.transform(X.fillna(0))\n",
    "X_train.shape"
   ]
  },
  {
   "cell_type": "code",
   "execution_count": 80,
   "metadata": {},
   "outputs": [
    {
     "name": "stdout",
     "output_type": "stream",
     "text": [
      "               UNITS  VISITS  HHS  SPEND  PRICE  BASE_PRICE  FEATURE  DISPLAY  \\\n",
      "WEEK_END_DATE                                                                   \n",
      "1/14/2009         13      13   13  18.07   1.39        1.57        0        0   \n",
      "1/21/2009         24      23   23  33.36   1.39        1.57        0        0   \n",
      "1/28/2009          7       7    7   9.52   1.36        1.36        0        0   \n",
      "2/4/2009          12      12   12  16.56   1.38        1.38        0        0   \n",
      "2/11/2009         16      14   14  24.00   1.50        1.50        0        0   \n",
      "\n",
      "               TPR_ONLY  SALES_AREA_SIZE_NUM  discount  \n",
      "WEEK_END_DATE                                           \n",
      "1/14/2009             1                24721      0.18  \n",
      "1/21/2009             1                24721      0.18  \n",
      "1/28/2009             0                24721      0.00  \n",
      "2/4/2009              0                24721      0.00  \n",
      "2/11/2009             0                24721      0.00  \n"
     ]
    }
   ],
   "source": [
    "print(X.head()) # Compare the newly created values with feature set values to know the selected features"
   ]
  },
  {
   "cell_type": "code",
   "execution_count": 81,
   "metadata": {},
   "outputs": [
    {
     "data": {
      "text/plain": [
       "(325260, 21)"
      ]
     },
     "execution_count": 81,
     "metadata": {},
     "output_type": "execute_result"
    }
   ],
   "source": [
    "dataset.shape"
   ]
  },
  {
   "cell_type": "code",
   "execution_count": 82,
   "metadata": {},
   "outputs": [],
   "source": [
    "import numpy as np\n",
    "import pandas as pd\n",
    "from sklearn.linear_model import LinearRegression \n",
    "from sklearn import metrics\n",
    "from sklearn.metrics import r2_score"
   ]
  },
  {
   "cell_type": "code",
   "execution_count": 83,
   "metadata": {},
   "outputs": [],
   "source": [
    "from pandas import read_csv #  imports a CSV file to DataFrame format.\n",
    "dataset = read_csv('br.csv')# read csv"
   ]
  },
  {
   "cell_type": "code",
   "execution_count": 84,
   "metadata": {},
   "outputs": [
    {
     "data": {
      "text/plain": [
       "((430914, 11), (430914,), (107729, 11), (107729,))"
      ]
     },
     "execution_count": 84,
     "metadata": {},
     "output_type": "execute_result"
    }
   ],
   "source": [
    "from sklearn.linear_model import LinearRegression \n",
    "from sklearn import metrics\n",
    "from sklearn.metrics import r2_score\n",
    "from sklearn.model_selection import train_test_split\n",
    "X_train, X_test, y_train, y_test = train_test_split(X, y, test_size=0.2, random_state=101) # splitting training and testing set\n",
    "X_train.shape, y_train.shape, X_test.shape, y_test.shape"
   ]
  },
  {
   "cell_type": "code",
   "execution_count": 85,
   "metadata": {},
   "outputs": [],
   "source": [
    "lr = LinearRegression() "
   ]
  },
  {
   "cell_type": "code",
   "execution_count": 86,
   "metadata": {},
   "outputs": [
    {
     "data": {
      "text/plain": [
       "LinearRegression()"
      ]
     },
     "execution_count": 86,
     "metadata": {},
     "output_type": "execute_result"
    }
   ],
   "source": [
    "lr.fit(X_train, y_train)  "
   ]
  },
  {
   "cell_type": "code",
   "execution_count": 87,
   "metadata": {},
   "outputs": [],
   "source": [
    "pred = lr.predict(X_test)"
   ]
  },
  {
   "cell_type": "code",
   "execution_count": 88,
   "metadata": {},
   "outputs": [
    {
     "name": "stdout",
     "output_type": "stream",
     "text": [
      "Intercept: 1621.842559312292\n"
     ]
    }
   ],
   "source": [
    "print('Intercept:', lr.intercept_)"
   ]
  },
  {
   "cell_type": "code",
   "execution_count": 89,
   "metadata": {},
   "outputs": [
    {
     "data": {
      "text/html": [
       "<div>\n",
       "<style scoped>\n",
       "    .dataframe tbody tr th:only-of-type {\n",
       "        vertical-align: middle;\n",
       "    }\n",
       "\n",
       "    .dataframe tbody tr th {\n",
       "        vertical-align: top;\n",
       "    }\n",
       "\n",
       "    .dataframe thead th {\n",
       "        text-align: right;\n",
       "    }\n",
       "</style>\n",
       "<table border=\"1\" class=\"dataframe\">\n",
       "  <thead>\n",
       "    <tr style=\"text-align: right;\">\n",
       "      <th></th>\n",
       "      <th>Coefficient</th>\n",
       "    </tr>\n",
       "  </thead>\n",
       "  <tbody>\n",
       "    <tr>\n",
       "      <th>UNITS</th>\n",
       "      <td>-45.789137</td>\n",
       "    </tr>\n",
       "    <tr>\n",
       "      <th>VISITS</th>\n",
       "      <td>221.415861</td>\n",
       "    </tr>\n",
       "    <tr>\n",
       "      <th>HHS</th>\n",
       "      <td>-178.144821</td>\n",
       "    </tr>\n",
       "    <tr>\n",
       "      <th>SPEND</th>\n",
       "      <td>13.886651</td>\n",
       "    </tr>\n",
       "    <tr>\n",
       "      <th>PRICE</th>\n",
       "      <td>-795.445563</td>\n",
       "    </tr>\n",
       "    <tr>\n",
       "      <th>BASE_PRICE</th>\n",
       "      <td>770.064827</td>\n",
       "    </tr>\n",
       "    <tr>\n",
       "      <th>FEATURE</th>\n",
       "      <td>-598.489222</td>\n",
       "    </tr>\n",
       "    <tr>\n",
       "      <th>DISPLAY</th>\n",
       "      <td>-500.000419</td>\n",
       "    </tr>\n",
       "    <tr>\n",
       "      <th>TPR_ONLY</th>\n",
       "      <td>103.586191</td>\n",
       "    </tr>\n",
       "    <tr>\n",
       "      <th>SALES_AREA_SIZE_NUM</th>\n",
       "      <td>0.448968</td>\n",
       "    </tr>\n",
       "    <tr>\n",
       "      <th>discount</th>\n",
       "      <td>-904.492548</td>\n",
       "    </tr>\n",
       "  </tbody>\n",
       "</table>\n",
       "</div>"
      ],
      "text/plain": [
       "                     Coefficient\n",
       "UNITS                 -45.789137\n",
       "VISITS                221.415861\n",
       "HHS                  -178.144821\n",
       "SPEND                  13.886651\n",
       "PRICE                -795.445563\n",
       "BASE_PRICE            770.064827\n",
       "FEATURE              -598.489222\n",
       "DISPLAY              -500.000419\n",
       "TPR_ONLY              103.586191\n",
       "SALES_AREA_SIZE_NUM     0.448968\n",
       "discount             -904.492548"
      ]
     },
     "execution_count": 89,
     "metadata": {},
     "output_type": "execute_result"
    }
   ],
   "source": [
    "coeff_df = pd.DataFrame(lr.coef_, X_train.columns, columns = ['Coefficient'])  \n",
    "coeff_df"
   ]
  },
  {
   "cell_type": "code",
   "execution_count": 90,
   "metadata": {},
   "outputs": [
    {
     "name": "stdout",
     "output_type": "stream",
     "text": [
      "Mean Absolute Error: 5062.145471408331\n",
      "Mean Squared Error: 39782497.550642006\n",
      "Root Mean Squared Error: 6307.336803330071\n",
      "R2: 0.7002114312082091\n",
      "Adj_R2: 0.7002037782517208\n"
     ]
    }
   ],
   "source": [
    "print('Mean Absolute Error:', metrics.mean_absolute_error(y_test, pred))  \n",
    "print('Mean Squared Error:', metrics.mean_squared_error(y_test, pred))  \n",
    "print('Root Mean Squared Error:', np.sqrt(metrics.mean_squared_error(y_test, pred)))\n",
    "R2 = np.sqrt(metrics.r2_score(y_test, pred))\n",
    "print('R2:', R2)\n",
    "adjusted_r_squared = 1 - (1-R2)*(len(y_train)-1)/(len(y_train)-X_train.shape[1]-1)\n",
    "print('Adj_R2:', adjusted_r_squared)"
   ]
  },
  {
   "cell_type": "code",
   "execution_count": 91,
   "metadata": {},
   "outputs": [
    {
     "name": "stdout",
     "output_type": "stream",
     "text": [
      "The predicted Average weekly Baskets: 20011.310036129482\n"
     ]
    }
   ],
   "source": [
    "features = [[25, 12, 20, 30.35, 1.50, 1.85, 0, 0, 1, 44547, 0.35]]\n",
    "print('The predicted Average weekly Baskets:', lr.predict(features)[0])"
   ]
  },
  {
   "cell_type": "code",
   "execution_count": 92,
   "metadata": {},
   "outputs": [],
   "source": [
    "from xgboost import XGBRegressor"
   ]
  },
  {
   "cell_type": "code",
   "execution_count": 93,
   "metadata": {},
   "outputs": [
    {
     "data": {
      "text/plain": [
       "XGBRegressor(base_score=0.5, booster='gbtree', colsample_bylevel=1,\n",
       "             colsample_bynode=1, colsample_bytree=1, gamma=0, gpu_id=-1,\n",
       "             importance_type='gain', interaction_constraints='',\n",
       "             learning_rate=0.05, max_delta_step=0, max_depth=6,\n",
       "             min_child_weight=1, missing=nan, monotone_constraints='()',\n",
       "             n_estimators=1000, n_jobs=4, num_parallel_tree=1, random_state=0,\n",
       "             reg_alpha=0, reg_lambda=1, scale_pos_weight=1, subsample=1,\n",
       "             tree_method='exact', validate_parameters=1, verbosity=None)"
      ]
     },
     "execution_count": 93,
     "metadata": {},
     "output_type": "execute_result"
    }
   ],
   "source": [
    "xgb_clf = XGBRegressor(n_estimators = 1000, learning_rate = 0.05)\n",
    "xgb_clf.fit(X_train, y_train)"
   ]
  },
  {
   "cell_type": "code",
   "execution_count": 94,
   "metadata": {},
   "outputs": [
    {
     "name": "stdout",
     "output_type": "stream",
     "text": [
      "0.9762695176468069\n"
     ]
    }
   ],
   "source": [
    "from sklearn.model_selection import cross_val_score\n",
    "xgb_clf_cv = cross_val_score(xgb_clf,X_train, y_train, cv = 10) \n",
    "print(xgb_clf_cv.mean())"
   ]
  },
  {
   "cell_type": "code",
   "execution_count": 95,
   "metadata": {},
   "outputs": [
    {
     "data": {
      "text/plain": [
       "array([23350.45 , 18839.686, 15778.24 , ..., 34987.387, 26116.752,\n",
       "       29810.855], dtype=float32)"
      ]
     },
     "execution_count": 95,
     "metadata": {},
     "output_type": "execute_result"
    }
   ],
   "source": [
    "xgb_predictions_test = xgb_clf.predict(X_train) \n",
    "xgb_predictions_test"
   ]
  },
  {
   "cell_type": "code",
   "execution_count": 96,
   "metadata": {},
   "outputs": [
    {
     "data": {
      "text/plain": [
       "(430914,)"
      ]
     },
     "execution_count": 96,
     "metadata": {},
     "output_type": "execute_result"
    }
   ],
   "source": [
    "xgb_predictions_test.shape"
   ]
  },
  {
   "cell_type": "code",
   "execution_count": 97,
   "metadata": {},
   "outputs": [
    {
     "name": "stdout",
     "output_type": "stream",
     "text": [
      "Mean Absolute Error: 365.64287831921644\n",
      "Mean Squared Error: 1698947.3633139222\n",
      "Root Mean Squared Error: 1303.4367507915074\n",
      "R2: 0.9889852428592318\n",
      "Adj_R2: 0.9889849616762052\n"
     ]
    }
   ],
   "source": [
    "print('Mean Absolute Error:', metrics.mean_absolute_error(y_train, xgb_predictions_test))  \n",
    "print('Mean Squared Error:', metrics.mean_squared_error(y_train, xgb_predictions_test))  \n",
    "print('Root Mean Squared Error:', np.sqrt(metrics.mean_squared_error(y_train, xgb_predictions_test)))\n",
    "R2 = np.sqrt(metrics.r2_score(y_train, xgb_predictions_test))\n",
    "print('R2:', R2)\n",
    "adjusted_r_squared = 1 - (1-R2)*(len(y_train)-1)/(len(y_train)-X_train.shape[1]-1)\n",
    "print('Adj_R2:', adjusted_r_squared)"
   ]
  }
 ],
 "metadata": {
  "kernelspec": {
   "display_name": "Python 3",
   "language": "python",
   "name": "python3"
  },
  "language_info": {
   "codemirror_mode": {
    "name": "ipython",
    "version": 3
   },
   "file_extension": ".py",
   "mimetype": "text/x-python",
   "name": "python",
   "nbconvert_exporter": "python",
   "pygments_lexer": "ipython3",
   "version": "3.7.1"
  }
 },
 "nbformat": 4,
 "nbformat_minor": 4
}
